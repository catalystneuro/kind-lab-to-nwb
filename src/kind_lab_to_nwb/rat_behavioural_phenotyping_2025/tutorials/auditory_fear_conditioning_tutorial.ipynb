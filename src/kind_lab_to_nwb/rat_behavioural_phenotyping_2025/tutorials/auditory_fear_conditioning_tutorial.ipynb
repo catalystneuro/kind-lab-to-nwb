{
 "cells": [
  {
   "cell_type": "markdown",
   "id": "968aef84-bc0f-4c6c-8350-bd003217be62",
   "metadata": {},
   "source": [
    "# Auditory Fear Conditioning NWB Tutorial\n",
    "\n",
    "This tutorial demonstrates how to load and explore an NWB file containing only behavioral data from a rat auditory fear conditioning experiment.\n",
    "\n",
    "Contents:\n",
    "\n",
    "- [Reading NWBFile locally](#read-nwb)\n",
    "- [Access Behavioral Videos](#access-behavior)\n",
    "- [Access Trials](#access-trials)\n",
    "\n"
   ]
  },
  {
   "cell_type": "markdown",
   "id": "b37ec519-2b98-457a-95c9-5d3c4d5f686f",
   "metadata": {},
   "source": [
    "# Reading an NWB file locally<a id=\"read-nwb\"></a>\n",
    "\n",
    "\n",
    "This section demonstrates how to read an NWB file using `pynwb`.\n",
    "\n",
    "Based on the [NWB File Basics](https://pynwb.readthedocs.io/en/stable/tutorials/general/plot_file.html#sphx-glr-tutorials-general-plot-file-py) tutorial from [PyNWB](https://pynwb.readthedocs.io/en/stable/#).\n",
    "\n",
    "An [NWBFile](https://pynwb.readthedocs.io/en/stable/pynwb.file.html#pynwb.file.NWBFile) represents a single session of an experiment. Each NWBFile must have a `session description`, `identifier`, and `session start time`.\n",
    "\n",
    "Reading is carried out using the [NWBHDF5IO](https://pynwb.readthedocs.io/en/stable/pynwb.html#pynwb.NWBHDF5IO) class. To read the NWB file use the read mode (\"r\") to retrieve an NWBFile object."
   ]
  },
  {
   "cell_type": "code",
   "execution_count": 18,
   "id": "65e512d772fad3eb",
   "metadata": {},
   "outputs": [],
   "source": [
    "from pynwb import NWBHDF5IO\n",
    "\n",
    "# adapt the path\n",
    "nwbfile_path = f\"/Users/weian/data/Auditory Fear Conditioning/nwbfiles/sub-831_Grin2b(4)_ses-AFC_4_RecallD1.nwb\"\n",
    "io = NWBHDF5IO(path=nwbfile_path, load_namespaces=True)\n",
    "nwbfile = io.read()\n"
   ]
  },
  {
   "cell_type": "code",
   "execution_count": 3,
   "id": "ea96c9cdf882692b",
   "metadata": {},
   "outputs": [
    {
     "data": {
      "text/plain": [
       "'This experiment is part of the Rat Behavioural Phenotyping Pipeline Methodologies https://sidb.org.uk/facilities/rat-behavioural-phenotyping-pipeline/.\\nAs an initial effort to characterize the rat lines, these models are being behaviorally phenotyped at SIDB.\\nRat models are phenotyped according to a rigorous pipeline that assesses behaviours relevant to autism with intellectual disability, such as social and motor skills, and learning and sensory processing.\\nDifferent cohorts of rats are run through different subsets of tasks to overcome potential order effects on behaviours and to limit the number of tasks each animal is put through.\\nThis experiment investigated auditory fear conditioning in different rat models\\n(Arid1b: https://rgd.mcw.edu/rgdweb/report/strain/main.html?id=14394518,\\nGrin2b: https://rgd.mcw.edu/rgdweb/report/strain/main.html?id=14394515,\\nScn2a: https://rgd.mcw.edu/rgdweb/report/strain/main.html?id=25394530).\\nThe experimenter was blind to genotype throughout the experiment and watched the trials on a screen from outside the testing room.\\nThe task utilized two Coulbourn Fear conditioning chambers providing distinct contexts (A and B).\\nRats underwent habituation in context A (2 days), followed by fear conditioning in context B\\nwhere tones were paired with foot shocks. Fear recall was then tested in context A over 2 days.\\nFreezing behavior was recorded and analyzed using FreezeFrame 5 software.\\n'"
      ]
     },
     "execution_count": 3,
     "metadata": {},
     "output_type": "execute_result"
    }
   ],
   "source": [
    "nwbfile.experiment_description"
   ]
  },
  {
   "cell_type": "code",
   "execution_count": 4,
   "id": "47811cb2d7e22d23",
   "metadata": {},
   "outputs": [
    {
     "data": {
      "text/plain": [
       "'Experimental Day 4. Fear recall testing in context A.\\n2 min baseline, then 13 tone presentations (30s, 5kHz, 75-80dB).\\nNo foot shocks delivered. Inter-tone interval 30s.\\nThe subject remained for a further 2 min before being removed and placed in a holding cage.\\n'"
      ]
     },
     "execution_count": 4,
     "metadata": {},
     "output_type": "execute_result"
    }
   ],
   "source": [
    "nwbfile.session_description"
   ]
  },
  {
   "cell_type": "markdown",
   "id": "85cbfb3e-4654-425d-9d3a-b604180f04f5",
   "metadata": {},
   "source": [
    "Importantly, the `session start time` is the reference time for all timestamps in the file. For instance, an event with a timestamp of 0 in the file means the event occurred exactly at the session start time.\n",
    "\n",
    "The `session_start_time` is extracted from the Freeze_Log.xls table."
   ]
  },
  {
   "cell_type": "code",
   "execution_count": 5,
   "id": "initial_id",
   "metadata": {},
   "outputs": [
    {
     "data": {
      "text/plain": [
       "datetime.datetime(2023, 6, 1, 10, 3, tzinfo=tzoffset(None, 3600))"
      ]
     },
     "execution_count": 5,
     "metadata": {},
     "output_type": "execute_result"
    }
   ],
   "source": [
    "nwbfile.session_start_time"
   ]
  },
  {
   "cell_type": "markdown",
   "id": "aee0a413-963b-4576-8d18-ba2c91c23f83",
   "metadata": {},
   "source": [
    "# Access subject <a name=\"access-subject\"></a>\n",
    "\n",
    "This section demonstrates how to access the [Subject](https://pynwb.readthedocs.io/en/stable/pynwb.file.html#pynwb.file.Subject) field in an NWB file.\n",
    "\n",
    "The [Subject](https://pynwb.readthedocs.io/en/stable/pynwb.file.html#pynwb.file.Subject) field can be accessed as `nwbfile.subject`.\n"
   ]
  },
  {
   "cell_type": "code",
   "execution_count": 6,
   "id": "0794a61a-76c8-43ef-836d-1835ca7733e2",
   "metadata": {},
   "outputs": [
    {
     "data": {
      "text/html": [
       "\n",
       "        <style>\n",
       "            .container-fields {\n",
       "                font-family: \"Open Sans\", Arial, sans-serif;\n",
       "            }\n",
       "            .container-fields .field-value {\n",
       "                color: #00788E;\n",
       "            }\n",
       "            .container-fields details > summary {\n",
       "                cursor: pointer;\n",
       "                display: list-item;\n",
       "            }\n",
       "            .container-fields details > summary:hover {\n",
       "                color: #0A6EAA;\n",
       "            }\n",
       "        </style>\n",
       "        \n",
       "        <script>\n",
       "            function copyToClipboard(text) {\n",
       "                navigator.clipboard.writeText(text).then(function() {\n",
       "                    console.log('Copied to clipboard: ' + text);\n",
       "                }, function(err) {\n",
       "                    console.error('Could not copy text: ', err);\n",
       "                });\n",
       "            }\n",
       "\n",
       "            document.addEventListener('DOMContentLoaded', function() {\n",
       "                let fieldKeys = document.querySelectorAll('.container-fields .field-key');\n",
       "                fieldKeys.forEach(function(fieldKey) {\n",
       "                    fieldKey.addEventListener('click', function() {\n",
       "                        let accessCode = fieldKey.getAttribute('title').replace('Access code: ', '');\n",
       "                        copyToClipboard(accessCode);\n",
       "                    });\n",
       "                });\n",
       "            });\n",
       "        </script>\n",
       "        <div class='container-wrap'><div class='container-header'><div class='xr-obj-type'><h3>subject (Subject)</h3></div></div><div style=\"margin-left: 0px;\" class=\"container-fields\"><span class=\"field-key\" title=\".age__reference\">age__reference: </span><span class=\"field-value\">birth</span></div><div style=\"margin-left: 0px;\" class=\"container-fields\"><span class=\"field-key\" title=\".sex\">sex: </span><span class=\"field-value\">M</span></div><div style=\"margin-left: 0px;\" class=\"container-fields\"><span class=\"field-key\" title=\".species\">species: </span><span class=\"field-value\">Rattus norvegicus</span></div><div style=\"margin-left: 0px;\" class=\"container-fields\"><span class=\"field-key\" title=\".subject_id\">subject_id: </span><span class=\"field-value\">831_Grin2b(4)</span></div><details><summary style=\"display: list-item; margin-left: 0px;\" class=\"container-fields field-key\" title=\".date_of_birth\"><b>date_of_birth</b></summary><span class=\"field-key\">2023-01-31 00:00:00+01:00</span></details></div>"
      ],
      "text/plain": [
       "subject pynwb.file.Subject at 0x4643738384\n",
       "Fields:\n",
       "  age__reference: birth\n",
       "  date_of_birth: 2023-01-31 00:00:00+01:00\n",
       "  sex: M\n",
       "  species: Rattus norvegicus\n",
       "  subject_id: 831_Grin2b(4)"
      ]
     },
     "execution_count": 6,
     "metadata": {},
     "output_type": "execute_result"
    }
   ],
   "source": [
    "nwbfile.subject"
   ]
  },
  {
   "cell_type": "markdown",
   "id": "a6536705-07a8-44cd-aaa8-8d9e3b7a2da0",
   "metadata": {},
   "source": [
    "# Access Behavioral Video <a name=\"access-behavior\"></a>\n",
    "\n",
    "The behavioral video is stored as an external `ImageSeries` in the NWB file."
   ]
  },
  {
   "cell_type": "code",
   "execution_count": 7,
   "id": "0d2e73af-010d-4e13-b20a-6775ba566630",
   "metadata": {},
   "outputs": [
    {
     "data": {
      "text/html": [
       "\n",
       "        <style>\n",
       "            .container-fields {\n",
       "                font-family: \"Open Sans\", Arial, sans-serif;\n",
       "            }\n",
       "            .container-fields .field-value {\n",
       "                color: #00788E;\n",
       "            }\n",
       "            .container-fields details > summary {\n",
       "                cursor: pointer;\n",
       "                display: list-item;\n",
       "            }\n",
       "            .container-fields details > summary:hover {\n",
       "                color: #0A6EAA;\n",
       "            }\n",
       "        </style>\n",
       "        \n",
       "        <script>\n",
       "            function copyToClipboard(text) {\n",
       "                navigator.clipboard.writeText(text).then(function() {\n",
       "                    console.log('Copied to clipboard: ' + text);\n",
       "                }, function(err) {\n",
       "                    console.error('Could not copy text: ', err);\n",
       "                });\n",
       "            }\n",
       "\n",
       "            document.addEventListener('DOMContentLoaded', function() {\n",
       "                let fieldKeys = document.querySelectorAll('.container-fields .field-key');\n",
       "                fieldKeys.forEach(function(fieldKey) {\n",
       "                    fieldKey.addEventListener('click', function() {\n",
       "                        let accessCode = fieldKey.getAttribute('title').replace('Access code: ', '');\n",
       "                        copyToClipboard(accessCode);\n",
       "                    });\n",
       "                });\n",
       "            });\n",
       "        </script>\n",
       "        <div class='container-wrap'><div class='container-header'><div class='xr-obj-type'><h3>BehavioralVideo (ImageSeries)</h3></div></div><div style=\"margin-left: 0px;\" class=\"container-fields\"><span class=\"field-key\" title=\".starting_time\">starting_time: </span><span class=\"field-value\">0.0</span></div><div style=\"margin-left: 0px;\" class=\"container-fields\"><span class=\"field-key\" title=\".rate\">rate: </span><span class=\"field-value\">15.0</span></div><div style=\"margin-left: 0px;\" class=\"container-fields\"><span class=\"field-key\" title=\".resolution\">resolution: </span><span class=\"field-value\">-1.0</span></div><div style=\"margin-left: 0px;\" class=\"container-fields\"><span class=\"field-key\" title=\".comments\">comments: </span><span class=\"field-value\">no comments</span></div><div style=\"margin-left: 0px;\" class=\"container-fields\"><span class=\"field-key\" title=\".description\">description: </span><span class=\"field-value\">Video recording of the rat's behavior. Recorded using a CCTV camera mounted on the ceiling above the chambers.\n",
       "</span></div><div style=\"margin-left: 0px;\" class=\"container-fields\"><span class=\"field-key\" title=\".conversion\">conversion: </span><span class=\"field-value\">1.0</span></div><div style=\"margin-left: 0px;\" class=\"container-fields\"><span class=\"field-key\" title=\".offset\">offset: </span><span class=\"field-value\">0.0</span></div><div style=\"margin-left: 0px;\" class=\"container-fields\"><span class=\"field-key\" title=\".unit\">unit: </span><span class=\"field-value\">Frames</span></div><details><summary style=\"display: list-item; margin-left: 0px;\" class=\"container-fields field-key\" title=\".data\"><b>data</b></summary><div style=\"margin-left: 20px;\" class=\"container-fields\">HDF5 dataset<br><table class=\"data-info\"><tbody><tr><th style=\"text-align: left\">Data type</th><td style=\"text-align: left\">uint8</td></tr><tr><th style=\"text-align: left\">Shape</th><td style=\"text-align: left\">(0, 0, 0)</td></tr><tr><th style=\"text-align: left\">Array size</th><td style=\"text-align: left\">0.00 bytes</td></tr><tr><th style=\"text-align: left\">Chunk shape</th><td style=\"text-align: left\">None</td></tr><tr><th style=\"text-align: left\">Compression</th><td style=\"text-align: left\">None</td></tr><tr><th style=\"text-align: left\">Compression opts</th><td style=\"text-align: left\">None</td></tr><tr><th style=\"text-align: left\">Compression ratio</th><td style=\"text-align: left\">undefined</td></tr></tbody></table><br>[]</div></details><div style=\"margin-left: 0px;\" class=\"container-fields\"><span class=\"field-key\" title=\".starting_time_unit\">starting_time_unit: </span><span class=\"field-value\">seconds</span></div><details><summary style=\"display: list-item; margin-left: 0px;\" class=\"container-fields field-key\" title=\".external_file\"><b>external_file</b></summary><div style=\"margin-left: 20px;\" class=\"container-fields\">HDF5 dataset<br><table class=\"data-info\"><tbody><tr><th style=\"text-align: left\">Data type</th><td style=\"text-align: left\">object</td></tr><tr><th style=\"text-align: left\">Shape</th><td style=\"text-align: left\">(1,)</td></tr><tr><th style=\"text-align: left\">Array size</th><td style=\"text-align: left\">8.00 bytes</td></tr><tr><th style=\"text-align: left\">Chunk shape</th><td style=\"text-align: left\">None</td></tr><tr><th style=\"text-align: left\">Compression</th><td style=\"text-align: left\">None</td></tr><tr><th style=\"text-align: left\">Compression opts</th><td style=\"text-align: left\">None</td></tr><tr><th style=\"text-align: left\">Compression ratio</th><td style=\"text-align: left\">0.5</td></tr></tbody></table><br>[b'/Users/weian/data/Auditory Fear Conditioning/Grin2b/Grin2b(4)_AFC/4_RecallD1/831.avi']</div></details><details><summary style=\"display: list-item; margin-left: 0px;\" class=\"container-fields field-key\" title=\".starting_frame\"><b>starting_frame</b></summary><div style=\"margin-left: 20px;\" class=\"container-fields\">NumPy array<br><table class=\"data-info\"><tbody><tr><th style=\"text-align: left\">Data type</th><td style=\"text-align: left\">int64</td></tr><tr><th style=\"text-align: left\">Shape</th><td style=\"text-align: left\">(1,)</td></tr><tr><th style=\"text-align: left\">Array size</th><td style=\"text-align: left\">8.00 bytes</td></tr></tbody></table><br>[0]</div></details><div style=\"margin-left: 0px;\" class=\"container-fields\"><span class=\"field-key\" title=\".format\">format: </span><span class=\"field-value\">external</span></div><details><summary style=\"display: list-item; margin-left: 0px;\" class=\"container-fields field-key\" title=\".device\"><b>device</b></summary><div style=\"margin-left: 20px;\" class=\"container-fields\"><span class=\"field-key\" title=\".device.description\">description: </span><span class=\"field-value\">CCTV camera mounted on ceiling above chambers for behavioral recording</span></div><div style=\"margin-left: 20px;\" class=\"container-fields\"><span class=\"field-key\" title=\".device.manufacturer\">manufacturer: </span><span class=\"field-value\">Example Manufacturer</span></div></details></div>"
      ],
      "text/plain": [
       "BehavioralVideo pynwb.image.ImageSeries at 0x4643737424\n",
       "Fields:\n",
       "  comments: no comments\n",
       "  conversion: 1.0\n",
       "  data: <HDF5 dataset \"data\": shape (0, 0, 0), type \"|u1\">\n",
       "  description: Video recording of the rat's behavior. Recorded using a CCTV camera mounted on the ceiling above the chambers.\n",
       "\n",
       "  device: BehavioralCamera pynwb.device.Device at 0x4640908880\n",
       "Fields:\n",
       "  description: CCTV camera mounted on ceiling above chambers for behavioral recording\n",
       "  manufacturer: Example Manufacturer\n",
       "\n",
       "  external_file: <StrDataset for HDF5 dataset \"external_file\": shape (1,), type \"|O\">\n",
       "  format: external\n",
       "  offset: 0.0\n",
       "  rate: 15.0\n",
       "  resolution: -1.0\n",
       "  starting_frame: [0]\n",
       "  starting_time: 0.0\n",
       "  starting_time_unit: seconds\n",
       "  unit: Frames"
      ]
     },
     "execution_count": 7,
     "metadata": {},
     "output_type": "execute_result"
    }
   ],
   "source": [
    "video = nwbfile.acquisition[\"BehavioralVideo\"]\n",
    "video"
   ]
  },
  {
   "cell_type": "markdown",
   "id": "e56d650e-9593-4468-96e3-40c3bf8f55ac",
   "metadata": {},
   "source": [
    "The video filepath:"
   ]
  },
  {
   "cell_type": "code",
   "execution_count": 20,
   "id": "a391d8b0-3004-4785-8a0a-c3faf78324d2",
   "metadata": {},
   "outputs": [
    {
     "data": {
      "text/plain": [
       "'/Users/weian/data/Auditory Fear Conditioning/Grin2b/Grin2b(4)_AFC/4_RecallD1/831.avi'"
      ]
     },
     "execution_count": 20,
     "metadata": {},
     "output_type": "execute_result"
    }
   ],
   "source": [
    "video.external_file[0]"
   ]
  },
  {
   "cell_type": "markdown",
   "id": "99560f6f-54e0-4fc4-84e6-aec9d64a70fd",
   "metadata": {},
   "source": [
    "The metadata of the device used to record the behavioral video:\n"
   ]
  },
  {
   "cell_type": "code",
   "execution_count": 9,
   "id": "ee6c8828-7458-4dec-9e6b-1414c2e8a602",
   "metadata": {},
   "outputs": [
    {
     "data": {
      "text/html": [
       "\n",
       "        <style>\n",
       "            .container-fields {\n",
       "                font-family: \"Open Sans\", Arial, sans-serif;\n",
       "            }\n",
       "            .container-fields .field-value {\n",
       "                color: #00788E;\n",
       "            }\n",
       "            .container-fields details > summary {\n",
       "                cursor: pointer;\n",
       "                display: list-item;\n",
       "            }\n",
       "            .container-fields details > summary:hover {\n",
       "                color: #0A6EAA;\n",
       "            }\n",
       "        </style>\n",
       "        \n",
       "        <script>\n",
       "            function copyToClipboard(text) {\n",
       "                navigator.clipboard.writeText(text).then(function() {\n",
       "                    console.log('Copied to clipboard: ' + text);\n",
       "                }, function(err) {\n",
       "                    console.error('Could not copy text: ', err);\n",
       "                });\n",
       "            }\n",
       "\n",
       "            document.addEventListener('DOMContentLoaded', function() {\n",
       "                let fieldKeys = document.querySelectorAll('.container-fields .field-key');\n",
       "                fieldKeys.forEach(function(fieldKey) {\n",
       "                    fieldKey.addEventListener('click', function() {\n",
       "                        let accessCode = fieldKey.getAttribute('title').replace('Access code: ', '');\n",
       "                        copyToClipboard(accessCode);\n",
       "                    });\n",
       "                });\n",
       "            });\n",
       "        </script>\n",
       "        <div class='container-wrap'><div class='container-header'><div class='xr-obj-type'><h3>BehavioralCamera (Device)</h3></div></div><div style=\"margin-left: 0px;\" class=\"container-fields\"><span class=\"field-key\" title=\".description\">description: </span><span class=\"field-value\">CCTV camera mounted on ceiling above chambers for behavioral recording</span></div><div style=\"margin-left: 0px;\" class=\"container-fields\"><span class=\"field-key\" title=\".manufacturer\">manufacturer: </span><span class=\"field-value\">Example Manufacturer</span></div></div>"
      ],
      "text/plain": [
       "BehavioralCamera pynwb.device.Device at 0x4640908880\n",
       "Fields:\n",
       "  description: CCTV camera mounted on ceiling above chambers for behavioral recording\n",
       "  manufacturer: Example Manufacturer"
      ]
     },
     "execution_count": 9,
     "metadata": {},
     "output_type": "execute_result"
    }
   ],
   "source": [
    "video.device"
   ]
  },
  {
   "cell_type": "markdown",
   "id": "a642e25b-e238-4134-ad88-0dc68b19fc98",
   "metadata": {},
   "source": [
    "# Access Trials <a name=\"access-trials\"></a>\n",
    "\n",
    "The `nwbfile.trials` contains periods of freezing behavior, as detected and scored by the FreezeFrame 5 software.  \n",
    "Each row in the table corresponds to a single freezing event, with columns for the start and stop times (relative to session start), and additional columns such as duration or manual scoring.\n",
    "\n",
    "You can convert the trials table to a `pandas.DataFrame` for easier exploration:\n"
   ]
  },
  {
   "cell_type": "code",
   "execution_count": 19,
   "id": "090c67b0-f68b-4e24-ae8e-d9ad8911dec9",
   "metadata": {},
   "outputs": [
    {
     "data": {
      "text/html": [
       "<div>\n",
       "<style scoped>\n",
       "    .dataframe tbody tr th:only-of-type {\n",
       "        vertical-align: middle;\n",
       "    }\n",
       "\n",
       "    .dataframe tbody tr th {\n",
       "        vertical-align: top;\n",
       "    }\n",
       "\n",
       "    .dataframe thead th {\n",
       "        text-align: right;\n",
       "    }\n",
       "</style>\n",
       "<table border=\"1\" class=\"dataframe\">\n",
       "  <thead>\n",
       "    <tr style=\"text-align: right;\">\n",
       "      <th></th>\n",
       "      <th>start_time</th>\n",
       "      <th>stop_time</th>\n",
       "      <th>percentage_of_time_spent_freezing</th>\n",
       "      <th>threshold</th>\n",
       "      <th>bout_duration</th>\n",
       "      <th>protocol</th>\n",
       "    </tr>\n",
       "    <tr>\n",
       "      <th>id</th>\n",
       "      <th></th>\n",
       "      <th></th>\n",
       "      <th></th>\n",
       "      <th></th>\n",
       "      <th></th>\n",
       "      <th></th>\n",
       "    </tr>\n",
       "  </thead>\n",
       "  <tbody>\n",
       "    <tr>\n",
       "      <th>0</th>\n",
       "      <td>0.0</td>\n",
       "      <td>120.0</td>\n",
       "      <td>0.00</td>\n",
       "      <td>312.50</td>\n",
       "      <td>3.0</td>\n",
       "      <td>tone recall/extinction  5Khz tone</td>\n",
       "    </tr>\n",
       "    <tr>\n",
       "      <th>1</th>\n",
       "      <td>120.0</td>\n",
       "      <td>150.0</td>\n",
       "      <td>74.24</td>\n",
       "      <td>312.50</td>\n",
       "      <td>3.0</td>\n",
       "      <td>tone recall/extinction  5Khz tone</td>\n",
       "    </tr>\n",
       "    <tr>\n",
       "      <th>2</th>\n",
       "      <td>150.0</td>\n",
       "      <td>180.0</td>\n",
       "      <td>45.37</td>\n",
       "      <td>312.50</td>\n",
       "      <td>3.0</td>\n",
       "      <td>tone recall/extinction  5Khz tone</td>\n",
       "    </tr>\n",
       "    <tr>\n",
       "      <th>3</th>\n",
       "      <td>180.0</td>\n",
       "      <td>210.0</td>\n",
       "      <td>64.16</td>\n",
       "      <td>312.50</td>\n",
       "      <td>3.0</td>\n",
       "      <td>tone recall/extinction  5Khz tone</td>\n",
       "    </tr>\n",
       "    <tr>\n",
       "      <th>4</th>\n",
       "      <td>210.0</td>\n",
       "      <td>240.0</td>\n",
       "      <td>79.48</td>\n",
       "      <td>312.50</td>\n",
       "      <td>3.0</td>\n",
       "      <td>tone recall/extinction  5Khz tone</td>\n",
       "    </tr>\n",
       "    <tr>\n",
       "      <th>5</th>\n",
       "      <td>240.0</td>\n",
       "      <td>270.0</td>\n",
       "      <td>96.00</td>\n",
       "      <td>312.50</td>\n",
       "      <td>3.0</td>\n",
       "      <td>tone recall/extinction  5Khz tone</td>\n",
       "    </tr>\n",
       "    <tr>\n",
       "      <th>6</th>\n",
       "      <td>270.0</td>\n",
       "      <td>300.0</td>\n",
       "      <td>0.00</td>\n",
       "      <td>312.50</td>\n",
       "      <td>3.0</td>\n",
       "      <td>tone recall/extinction  5Khz tone</td>\n",
       "    </tr>\n",
       "    <tr>\n",
       "      <th>7</th>\n",
       "      <td>300.0</td>\n",
       "      <td>330.0</td>\n",
       "      <td>42.04</td>\n",
       "      <td>312.50</td>\n",
       "      <td>3.0</td>\n",
       "      <td>tone recall/extinction  5Khz tone</td>\n",
       "    </tr>\n",
       "    <tr>\n",
       "      <th>8</th>\n",
       "      <td>330.0</td>\n",
       "      <td>360.0</td>\n",
       "      <td>28.63</td>\n",
       "      <td>312.50</td>\n",
       "      <td>3.0</td>\n",
       "      <td>tone recall/extinction  5Khz tone</td>\n",
       "    </tr>\n",
       "    <tr>\n",
       "      <th>9</th>\n",
       "      <td>360.0</td>\n",
       "      <td>390.0</td>\n",
       "      <td>30.09</td>\n",
       "      <td>312.50</td>\n",
       "      <td>3.0</td>\n",
       "      <td>tone recall/extinction  5Khz tone</td>\n",
       "    </tr>\n",
       "    <tr>\n",
       "      <th>10</th>\n",
       "      <td>390.0</td>\n",
       "      <td>420.0</td>\n",
       "      <td>36.24</td>\n",
       "      <td>312.50</td>\n",
       "      <td>3.0</td>\n",
       "      <td>tone recall/extinction  5Khz tone</td>\n",
       "    </tr>\n",
       "    <tr>\n",
       "      <th>11</th>\n",
       "      <td>420.0</td>\n",
       "      <td>450.0</td>\n",
       "      <td>81.42</td>\n",
       "      <td>312.50</td>\n",
       "      <td>3.0</td>\n",
       "      <td>tone recall/extinction  5Khz tone</td>\n",
       "    </tr>\n",
       "    <tr>\n",
       "      <th>12</th>\n",
       "      <td>450.0</td>\n",
       "      <td>480.0</td>\n",
       "      <td>5.41</td>\n",
       "      <td>312.50</td>\n",
       "      <td>3.0</td>\n",
       "      <td>tone recall/extinction  5Khz tone</td>\n",
       "    </tr>\n",
       "    <tr>\n",
       "      <th>13</th>\n",
       "      <td>480.0</td>\n",
       "      <td>510.0</td>\n",
       "      <td>77.43</td>\n",
       "      <td>312.50</td>\n",
       "      <td>3.0</td>\n",
       "      <td>tone recall/extinction  5Khz tone</td>\n",
       "    </tr>\n",
       "    <tr>\n",
       "      <th>14</th>\n",
       "      <td>510.0</td>\n",
       "      <td>540.0</td>\n",
       "      <td>21.59</td>\n",
       "      <td>312.50</td>\n",
       "      <td>3.0</td>\n",
       "      <td>tone recall/extinction  5Khz tone</td>\n",
       "    </tr>\n",
       "    <tr>\n",
       "      <th>15</th>\n",
       "      <td>540.0</td>\n",
       "      <td>570.0</td>\n",
       "      <td>43.11</td>\n",
       "      <td>312.50</td>\n",
       "      <td>3.0</td>\n",
       "      <td>tone recall/extinction  5Khz tone</td>\n",
       "    </tr>\n",
       "    <tr>\n",
       "      <th>16</th>\n",
       "      <td>570.0</td>\n",
       "      <td>600.0</td>\n",
       "      <td>11.50</td>\n",
       "      <td>312.50</td>\n",
       "      <td>3.0</td>\n",
       "      <td>tone recall/extinction  5Khz tone</td>\n",
       "    </tr>\n",
       "    <tr>\n",
       "      <th>17</th>\n",
       "      <td>600.0</td>\n",
       "      <td>630.0</td>\n",
       "      <td>48.88</td>\n",
       "      <td>312.50</td>\n",
       "      <td>3.0</td>\n",
       "      <td>tone recall/extinction  5Khz tone</td>\n",
       "    </tr>\n",
       "    <tr>\n",
       "      <th>18</th>\n",
       "      <td>630.0</td>\n",
       "      <td>660.0</td>\n",
       "      <td>11.21</td>\n",
       "      <td>312.50</td>\n",
       "      <td>3.0</td>\n",
       "      <td>tone recall/extinction  5Khz tone</td>\n",
       "    </tr>\n",
       "    <tr>\n",
       "      <th>19</th>\n",
       "      <td>660.0</td>\n",
       "      <td>690.0</td>\n",
       "      <td>11.50</td>\n",
       "      <td>312.50</td>\n",
       "      <td>3.0</td>\n",
       "      <td>tone recall/extinction  5Khz tone</td>\n",
       "    </tr>\n",
       "  </tbody>\n",
       "</table>\n",
       "</div>"
      ],
      "text/plain": [
       "    start_time  stop_time  percentage_of_time_spent_freezing threshold  \\\n",
       "id                                                                       \n",
       "0          0.0      120.0                               0.00    312.50   \n",
       "1        120.0      150.0                              74.24    312.50   \n",
       "2        150.0      180.0                              45.37    312.50   \n",
       "3        180.0      210.0                              64.16    312.50   \n",
       "4        210.0      240.0                              79.48    312.50   \n",
       "5        240.0      270.0                              96.00    312.50   \n",
       "6        270.0      300.0                               0.00    312.50   \n",
       "7        300.0      330.0                              42.04    312.50   \n",
       "8        330.0      360.0                              28.63    312.50   \n",
       "9        360.0      390.0                              30.09    312.50   \n",
       "10       390.0      420.0                              36.24    312.50   \n",
       "11       420.0      450.0                              81.42    312.50   \n",
       "12       450.0      480.0                               5.41    312.50   \n",
       "13       480.0      510.0                              77.43    312.50   \n",
       "14       510.0      540.0                              21.59    312.50   \n",
       "15       540.0      570.0                              43.11    312.50   \n",
       "16       570.0      600.0                              11.50    312.50   \n",
       "17       600.0      630.0                              48.88    312.50   \n",
       "18       630.0      660.0                              11.21    312.50   \n",
       "19       660.0      690.0                              11.50    312.50   \n",
       "\n",
       "    bout_duration                           protocol  \n",
       "id                                                    \n",
       "0             3.0  tone recall/extinction  5Khz tone  \n",
       "1             3.0  tone recall/extinction  5Khz tone  \n",
       "2             3.0  tone recall/extinction  5Khz tone  \n",
       "3             3.0  tone recall/extinction  5Khz tone  \n",
       "4             3.0  tone recall/extinction  5Khz tone  \n",
       "5             3.0  tone recall/extinction  5Khz tone  \n",
       "6             3.0  tone recall/extinction  5Khz tone  \n",
       "7             3.0  tone recall/extinction  5Khz tone  \n",
       "8             3.0  tone recall/extinction  5Khz tone  \n",
       "9             3.0  tone recall/extinction  5Khz tone  \n",
       "10            3.0  tone recall/extinction  5Khz tone  \n",
       "11            3.0  tone recall/extinction  5Khz tone  \n",
       "12            3.0  tone recall/extinction  5Khz tone  \n",
       "13            3.0  tone recall/extinction  5Khz tone  \n",
       "14            3.0  tone recall/extinction  5Khz tone  \n",
       "15            3.0  tone recall/extinction  5Khz tone  \n",
       "16            3.0  tone recall/extinction  5Khz tone  \n",
       "17            3.0  tone recall/extinction  5Khz tone  \n",
       "18            3.0  tone recall/extinction  5Khz tone  \n",
       "19            3.0  tone recall/extinction  5Khz tone  "
      ]
     },
     "execution_count": 19,
     "metadata": {},
     "output_type": "execute_result"
    }
   ],
   "source": [
    "trials = nwbfile.trials.to_dataframe()\n",
    "trials.head(20)"
   ]
  },
  {
   "cell_type": "code",
   "execution_count": null,
   "id": "4b58324b-4627-4f1a-b6b7-276bdb5f0c4a",
   "metadata": {},
   "outputs": [],
   "source": []
  }
 ],
 "metadata": {
  "kernelspec": {
   "display_name": "Python 3 (ipykernel)",
   "language": "python",
   "name": "python3"
  },
  "language_info": {
   "codemirror_mode": {
    "name": "ipython",
    "version": 3
   },
   "file_extension": ".py",
   "mimetype": "text/x-python",
   "name": "python",
   "nbconvert_exporter": "python",
   "pygments_lexer": "ipython3",
   "version": "3.13.0"
  }
 },
 "nbformat": 4,
 "nbformat_minor": 5
}
