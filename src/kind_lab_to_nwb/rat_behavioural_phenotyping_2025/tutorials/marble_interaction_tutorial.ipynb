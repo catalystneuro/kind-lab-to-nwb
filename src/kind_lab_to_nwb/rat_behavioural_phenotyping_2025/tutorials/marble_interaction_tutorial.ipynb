{
 "cells": [
  {
   "cell_type": "markdown",
   "id": "968aef84-bc0f-4c6c-8350-bd003217be62",
   "metadata": {},
   "source": [
    "# Marble Interaction in Autism-Related Rat Models: Behavioral Phenotyping of Arid1b, Grin2b, and Scn2a Strains\n",
    "\n",
    "This tutorial shows how to access the data related to [EMBER:000200](https://dandi.emberarchive.org/dandiset/000200) using pynwb.\n",
    "\n",
    "This dataset contains behavioral data from the marble interaction experiment, part of the [Rat Behavioural Phenotyping Pipeline Methodologies](https://sidb.org.uk/facilities/rat-behavioural-phenotyping-pipeline/).\n",
    "\n",
    "Contents:\n",
    "\n",
    "- [Reading NWBFile locally](#read-nwb)\n",
    "- [Access Subject Metadata](#access-subject)\n",
    "- [Access Devices Metadata](#access-devices)\n",
    "- [Access Behavioral Videos](#access-behavior)\n",
    "- [Access Annotated Behavioral Events](#access-events)\n",
    "\n"
   ]
  },
  {
   "cell_type": "markdown",
   "id": "743ba5bd",
   "metadata": {},
   "source": [
    "# Select the subject and session to load"
   ]
  },
  {
   "cell_type": "code",
   "execution_count": 1,
   "id": "18e66d29",
   "metadata": {},
   "outputs": [],
   "source": [
    "emberset_id = \"000200\"\n",
    "session_id = \"MI-Test\"\n",
    "subject_id = \"408-Arid1b(3)\""
   ]
  },
  {
   "cell_type": "markdown",
   "id": "7135a87a",
   "metadata": {},
   "source": [
    "# Streaming an NWB file <a id=\"stream-nwb\"></a>\n",
    "\n",
    "This section demonstrates how to access the files on the [EMEBER Archive](https://dandi.emberarchive.org) without downloading them. Based on the [Streaming NWB files](https://pynwb.readthedocs.io/en/stable/tutorials/advanced_io/streaming.html) tutorial from [PyNWB](https://pynwb.readthedocs.io/en/stable/#).\n",
    "\n",
    "An [NWBFile](https://pynwb.readthedocs.io/en/stable/pynwb.file.html#pynwb.file.NWBFile) represents a single session of an experiment. Each NWBFile must have a `session description`, `identifier`, and `session start time`.\n",
    "\n",
    "The `dandi.dandiapi.DandiAPIClient` can be used to get the S3 URL of the NWB file stored in the DANDI Archive."
   ]
  },
  {
   "cell_type": "code",
   "execution_count": 2,
   "id": "2871fa34",
   "metadata": {},
   "outputs": [],
   "source": [
    "# Import necessary modules for accessing DANDI archive\n",
    "from dandi.dandiapi import DandiAPIClient, DandiInstance\n",
    "\n",
    "dandi_instance = DandiInstance(\n",
    "        \"ember\",\n",
    "        \"https://dandi.emberarchive.org\",\n",
    "        \"https://api-dandi.emberarchive.org/api\",\n",
    "    )\n",
    "# Create a search pattern to find the specific NWB file\n",
    "pattern = (f\"sub-{subject_id}/sub-{subject_id}_ses-{session_id}*.nwb\")\n",
    "\n",
    "# Initialize DANDI API client to access the archive\n",
    "with DandiAPIClient(dandi_instance=dandi_instance) as client:\n",
    "    # Authenticate with DANDI (required for embargoed datasets)\n",
    "    # This line can be removed once the dataset is publicly available\n",
    "    client.dandi_authenticate()\n",
    "\n",
    "    # Search for assets matching our pattern in the draft version of the dandiset\n",
    "    assets = client.get_dandiset(emberset_id, \"draft\").get_assets_by_glob(pattern=pattern, order=\"path\")\n",
    "\n",
    "    # Collect S3 URLs for all matching assets\n",
    "    s3_urls = []\n",
    "    for asset in assets:\n",
    "        # Get the direct S3 URL for streaming the file\n",
    "        s3_url = asset.get_content_url(follow_redirects=1, strip_query=False)\n",
    "        s3_urls.append(s3_url)\n",
    "\n",
    "    # Validate that we found exactly one matching file\n",
    "    if len(s3_urls) > 1:\n",
    "        raise ValueError(f\"More than one asset found for pattern {pattern}\")\n",
    "    elif len(s3_urls) == 0:\n",
    "        raise ValueError(f\"No asset found for pattern {pattern}\")\n",
    "    else:\n",
    "        # Use the single matching asset\n",
    "        s3_url = s3_urls[0]\n",
    "        # Get the final S3 URL for the asset\n",
    "        s3_url = asset.get_content_url(follow_redirects=1, strip_query=False)\n",
    "\n",
    "# Import modules for remote file access and NWB reading\n",
    "import h5py\n",
    "import remfile\n",
    "from pynwb import NWBHDF5IO\n",
    "\n",
    "# Create a remote file object that can stream data from S3\n",
    "file = remfile.File(s3_url)\n",
    "\n",
    "# Wrap the remote file in an HDF5 file object for reading\n",
    "h5_file = h5py.File(file, \"r\")\n",
    "\n",
    "# Create NWB IO object for reading the streamed file\n",
    "io = NWBHDF5IO(file=h5_file, load_namespaces=True)\n",
    "\n",
    "# Read the NWB file into memory for analysis\n",
    "nwbfile = io.read()"
   ]
  },
  {
   "cell_type": "markdown",
   "id": "b37ec519-2b98-457a-95c9-5d3c4d5f686f",
   "metadata": {},
   "source": [
    "# Reading an NWB file locally<a id=\"read-nwb\"></a>\n",
    "\n",
    "\n",
    "This section demonstrates how to read an NWB file using `pynwb`.\n",
    "\n",
    "Based on the [NWB File Basics](https://pynwb.readthedocs.io/en/stable/tutorials/general/plot_file.html#sphx-glr-tutorials-general-plot-file-py) tutorial from [PyNWB](https://pynwb.readthedocs.io/en/stable/#).\n",
    "\n",
    "An [NWBFile](https://pynwb.readthedocs.io/en/stable/pynwb.file.html#pynwb.file.NWBFile) represents a single session of an experiment. Each NWBFile must have a `session description`, `identifier`, and `session start time`.\n",
    "\n",
    "Reading is carried out using the [NWBHDF5IO](https://pynwb.readthedocs.io/en/stable/pynwb.html#pynwb.NWBHDF5IO) class. To read the NWB file use the read mode (\"r\") to retrieve an NWBFile object."
   ]
  },
  {
   "cell_type": "code",
   "execution_count": null,
   "id": "65e512d772fad3eb",
   "metadata": {},
   "outputs": [],
   "source": [
    "from pynwb import NWBHDF5IO\n",
    "from pathlib import Path\n",
    "# Define the path to the NWB file\n",
    "directory = Path(\"D:/kind_lab_conversion_nwb/behavioural_pipeline/marble_interaction\")\n",
    "nwbfile_path = directory / f\"sub-{subject_id}_ses-{session_id}.nwb\"\n",
    "io = NWBHDF5IO(path=nwbfile_path, load_namespaces=True)\n",
    "nwbfile = io.read()"
   ]
  },
  {
   "cell_type": "code",
   "execution_count": 4,
   "id": "ea96c9cdf882692b",
   "metadata": {},
   "outputs": [
    {
     "name": "stdout",
     "output_type": "stream",
     "text": [
      "This experiment is part of the Rat Behavioural Phenotyping Pipeline Methodologies https://sidb.org.uk/facilities/rat-behavioural-phenotyping-pipeline/.\n",
      "As an initial effort to characterize the rat lines, these models are being behaviorally phenotyped at SIDB. \n",
      "Rat models are phenotyped according to a rigorous pipeline that assesses behaviours relevant to autism with intellectual disability, such as social and motor skills, and learning and sensory processing. \n",
      "Different cohorts of rats are run through different subsets of tasks to overcome potential order effects on behaviours and to limit the number of tasks each animal is put through.\n",
      "This experiment investigated marble interaction behavior in different rat models \n",
      "(Arid1b: https://rgd.mcw.edu/rgdweb/report/strain/main.html?id=14394518, \n",
      "Grin2b: https://rgd.mcw.edu/rgdweb/report/strain/main.html?id=14394515, \n",
      "Scn2a: https://rgd.mcw.edu/rgdweb/report/strain/main.html?id=25394530)\n",
      "using a plastic box arena (63 x 50 x 30 cm) with wood chip bedding.    \n",
      "The experimenter was blind to genotype and monitored trials from outside the testing room via video feed.\n",
      "The protocol involved three experimental days: two days of arena habituation (20 min each) followed by a test day with 20 black glass marbles arranged in a 4x5 grid.\n",
      "Between rats, the arena was cleared of debris and the wood chip bedding was mixed and flattened out.\n",
      "Behavioral data included manual scoring of marble manipulation time using BORIS software and movement tracking using ANY-Maze software.\n",
      "The experimental setup included two side-by-side arenas separated by a wooden panel, with CCTV camera recording and controlled lighting conditions (~20 lx).\n",
      "\n"
     ]
    }
   ],
   "source": [
    "print(nwbfile.experiment_description)"
   ]
  },
  {
   "cell_type": "code",
   "execution_count": 5,
   "id": "47811cb2d7e22d23",
   "metadata": {},
   "outputs": [
    {
     "name": "stdout",
     "output_type": "stream",
     "text": [
      "Experimental Day 3. Marble interaction test.\n",
      "Rat placed in arena with woodchip bedding and 20 marbles\n",
      "arranged in 4x5 grid for 20 min test period.\n",
      "\n"
     ]
    }
   ],
   "source": [
    "print(nwbfile.session_description)"
   ]
  },
  {
   "cell_type": "markdown",
   "id": "85cbfb3e-4654-425d-9d3a-b604180f04f5",
   "metadata": {},
   "source": [
    "Importantly, the `session start time` is the reference time for all timestamps in the file. For instance, an event with a timestamp of 0 in the file means the event occurred exactly at the session start time.\n",
    "\n",
    "The `session_start_time` is extracted from the Freeze_Log.xls table."
   ]
  },
  {
   "cell_type": "code",
   "execution_count": 6,
   "id": "initial_id",
   "metadata": {},
   "outputs": [
    {
     "name": "stdout",
     "output_type": "stream",
     "text": [
      "2022-11-23 00:00:00+01:00\n"
     ]
    }
   ],
   "source": [
    "print(nwbfile.session_start_time)"
   ]
  },
  {
   "cell_type": "markdown",
   "id": "aee0a413-963b-4576-8d18-ba2c91c23f83",
   "metadata": {},
   "source": [
    "# Access Subject Metadata <a name=\"access-subject\"></a>\n",
    "\n",
    "This section demonstrates how to access the [Subject](https://pynwb.readthedocs.io/en/stable/pynwb.file.html#pynwb.file.Subject) field in an NWB file.\n",
    "\n",
    "The [Subject](https://pynwb.readthedocs.io/en/stable/pynwb.file.html#pynwb.file.Subject) field can be accessed as `nwbfile.subject`.\n"
   ]
  },
  {
   "cell_type": "code",
   "execution_count": 7,
   "id": "0794a61a-76c8-43ef-836d-1835ca7733e2",
   "metadata": {},
   "outputs": [
    {
     "data": {
      "text/html": [
       "\n",
       "        <style>\n",
       "            .container-fields {\n",
       "                font-family: \"Open Sans\", Arial, sans-serif;\n",
       "            }\n",
       "            .container-fields .field-value {\n",
       "                color: #00788E;\n",
       "            }\n",
       "            .container-fields details > summary {\n",
       "                cursor: pointer;\n",
       "                display: list-item;\n",
       "            }\n",
       "            .container-fields details > summary:hover {\n",
       "                color: #0A6EAA;\n",
       "            }\n",
       "        </style>\n",
       "        \n",
       "        <script>\n",
       "            function copyToClipboard(text) {\n",
       "                navigator.clipboard.writeText(text).then(function() {\n",
       "                    console.log('Copied to clipboard: ' + text);\n",
       "                }, function(err) {\n",
       "                    console.error('Could not copy text: ', err);\n",
       "                });\n",
       "            }\n",
       "\n",
       "            document.addEventListener('DOMContentLoaded', function() {\n",
       "                let fieldKeys = document.querySelectorAll('.container-fields .field-key');\n",
       "                fieldKeys.forEach(function(fieldKey) {\n",
       "                    fieldKey.addEventListener('click', function() {\n",
       "                        let accessCode = fieldKey.getAttribute('title').replace('Access code: ', '');\n",
       "                        copyToClipboard(accessCode);\n",
       "                    });\n",
       "                });\n",
       "            });\n",
       "        </script>\n",
       "        <div class='container-wrap'><div class='container-header'><div class='xr-obj-type'><h3>subject (Subject)</h3></div></div><div style=\"margin-left: 0px;\" class=\"container-fields\"><span class=\"field-key\" title=\".age__reference\">age__reference: </span><span class=\"field-value\">birth</span></div><div style=\"margin-left: 0px;\" class=\"container-fields\"><span class=\"field-key\" title=\".description\">description: </span><span class=\"field-value\">Subject housed in standard housing conditions. Cage identifier: 1.0.</span></div><div style=\"margin-left: 0px;\" class=\"container-fields\"><span class=\"field-key\" title=\".genotype\">genotype: </span><span class=\"field-value\">WT</span></div><div style=\"margin-left: 0px;\" class=\"container-fields\"><span class=\"field-key\" title=\".sex\">sex: </span><span class=\"field-value\">M</span></div><div style=\"margin-left: 0px;\" class=\"container-fields\"><span class=\"field-key\" title=\".species\">species: </span><span class=\"field-value\">Rattus norvegicus</span></div><div style=\"margin-left: 0px;\" class=\"container-fields\"><span class=\"field-key\" title=\".subject_id\">subject_id: </span><span class=\"field-value\">408-Arid1b(3)</span></div><details><summary style=\"display: list-item; margin-left: 0px;\" class=\"container-fields field-key\" title=\".date_of_birth\"><b>date_of_birth</b></summary><span class=\"field-key\">2022-09-02 00:00:00+02:00</span></details><div style=\"margin-left: 0px;\" class=\"container-fields\"><span class=\"field-key\" title=\".strain\">strain: </span><span class=\"field-value\">Arid1b</span></div></div>"
      ],
      "text/plain": [
       "subject pynwb.file.Subject at 0x1980903167456\n",
       "Fields:\n",
       "  age__reference: birth\n",
       "  date_of_birth: 2022-09-02 00:00:00+02:00\n",
       "  description: Subject housed in standard housing conditions. Cage identifier: 1.0.\n",
       "  genotype: WT\n",
       "  sex: M\n",
       "  species: Rattus norvegicus\n",
       "  strain: Arid1b\n",
       "  subject_id: 408-Arid1b(3)"
      ]
     },
     "execution_count": 7,
     "metadata": {},
     "output_type": "execute_result"
    }
   ],
   "source": [
    "nwbfile.subject"
   ]
  },
  {
   "cell_type": "markdown",
   "id": "f4b61d49",
   "metadata": {},
   "source": [
    "# Access Devices Metadata <a name=\"access-devices\"></a>\n",
    "\n",
    "This section demonstrates how to access the [Device](https://pynwb.readthedocs.io/en/stable/pynwb.device.html#module-pynwb.device) field in an NWB file.\n",
    "\n",
    "The [Device](https://pynwb.readthedocs.io/en/stable/pynwb.device.html#module-pynwb.device) field can be accessed as `nwbfile.devices`."
   ]
  },
  {
   "cell_type": "code",
   "execution_count": 8,
   "id": "cd85667c",
   "metadata": {},
   "outputs": [
    {
     "data": {
      "text/html": [
       "\n",
       "        <style>\n",
       "            .container-fields {\n",
       "                font-family: \"Open Sans\", Arial, sans-serif;\n",
       "            }\n",
       "            .container-fields .field-value {\n",
       "                color: #00788E;\n",
       "            }\n",
       "            .container-fields details > summary {\n",
       "                cursor: pointer;\n",
       "                display: list-item;\n",
       "            }\n",
       "            .container-fields details > summary:hover {\n",
       "                color: #0A6EAA;\n",
       "            }\n",
       "        </style>\n",
       "        \n",
       "        <script>\n",
       "            function copyToClipboard(text) {\n",
       "                navigator.clipboard.writeText(text).then(function() {\n",
       "                    console.log('Copied to clipboard: ' + text);\n",
       "                }, function(err) {\n",
       "                    console.error('Could not copy text: ', err);\n",
       "                });\n",
       "            }\n",
       "\n",
       "            document.addEventListener('DOMContentLoaded', function() {\n",
       "                let fieldKeys = document.querySelectorAll('.container-fields .field-key');\n",
       "                fieldKeys.forEach(function(fieldKey) {\n",
       "                    fieldKey.addEventListener('click', function() {\n",
       "                        let accessCode = fieldKey.getAttribute('title').replace('Access code: ', '');\n",
       "                        copyToClipboard(accessCode);\n",
       "                    });\n",
       "                });\n",
       "            });\n",
       "        </script>\n",
       "        <div class='container-wrap'><div class='container-header'><div class='xr-obj-type'><h3>Arena (Device)</h3></div></div><div style=\"margin-left: 0px;\" class=\"container-fields\"><span class=\"field-key\" title=\".description\">description: </span><span class=\"field-value\">Plastic box identical to home cage base (63x50x30 cm) with white plastic panels\n",
       "in frame around sides to total height of 90 cm\n",
       "</span></div></div>"
      ],
      "text/plain": [
       "Arena pynwb.device.Device at 0x1980903167072\n",
       "Fields:\n",
       "  description: Plastic box identical to home cage base (63x50x30 cm) with white plastic panels\n",
       "in frame around sides to total height of 90 cm\n"
      ]
     },
     "execution_count": 8,
     "metadata": {},
     "output_type": "execute_result"
    }
   ],
   "source": [
    "nwbfile.devices[\"Arena\"]"
   ]
  },
  {
   "cell_type": "code",
   "execution_count": 9,
   "id": "c1c89436",
   "metadata": {},
   "outputs": [
    {
     "data": {
      "text/html": [
       "\n",
       "        <style>\n",
       "            .container-fields {\n",
       "                font-family: \"Open Sans\", Arial, sans-serif;\n",
       "            }\n",
       "            .container-fields .field-value {\n",
       "                color: #00788E;\n",
       "            }\n",
       "            .container-fields details > summary {\n",
       "                cursor: pointer;\n",
       "                display: list-item;\n",
       "            }\n",
       "            .container-fields details > summary:hover {\n",
       "                color: #0A6EAA;\n",
       "            }\n",
       "        </style>\n",
       "        \n",
       "        <script>\n",
       "            function copyToClipboard(text) {\n",
       "                navigator.clipboard.writeText(text).then(function() {\n",
       "                    console.log('Copied to clipboard: ' + text);\n",
       "                }, function(err) {\n",
       "                    console.error('Could not copy text: ', err);\n",
       "                });\n",
       "            }\n",
       "\n",
       "            document.addEventListener('DOMContentLoaded', function() {\n",
       "                let fieldKeys = document.querySelectorAll('.container-fields .field-key');\n",
       "                fieldKeys.forEach(function(fieldKey) {\n",
       "                    fieldKey.addEventListener('click', function() {\n",
       "                        let accessCode = fieldKey.getAttribute('title').replace('Access code: ', '');\n",
       "                        copyToClipboard(accessCode);\n",
       "                    });\n",
       "                });\n",
       "            });\n",
       "        </script>\n",
       "        <div class='container-wrap'><div class='container-header'><div class='xr-obj-type'><h3>Marbles (Device)</h3></div></div><div style=\"margin-left: 0px;\" class=\"container-fields\"><span class=\"field-key\" title=\".description\">description: </span><span class=\"field-value\">20 black shiny glass marbles (25mm diameter, Opal marble)</span></div><div style=\"margin-left: 0px;\" class=\"container-fields\"><span class=\"field-key\" title=\".manufacturer\">manufacturer: </span><span class=\"field-value\">House of Marbles UK</span></div></div>"
      ],
      "text/plain": [
       "Marbles pynwb.device.Device at 0x1980903166592\n",
       "Fields:\n",
       "  description: 20 black shiny glass marbles (25mm diameter, Opal marble)\n",
       "  manufacturer: House of Marbles UK"
      ]
     },
     "execution_count": 9,
     "metadata": {},
     "output_type": "execute_result"
    }
   ],
   "source": [
    "nwbfile.devices[\"Marbles\"]"
   ]
  },
  {
   "cell_type": "code",
   "execution_count": 10,
   "id": "c47a1c0e",
   "metadata": {},
   "outputs": [
    {
     "data": {
      "text/html": [
       "\n",
       "        <style>\n",
       "            .container-fields {\n",
       "                font-family: \"Open Sans\", Arial, sans-serif;\n",
       "            }\n",
       "            .container-fields .field-value {\n",
       "                color: #00788E;\n",
       "            }\n",
       "            .container-fields details > summary {\n",
       "                cursor: pointer;\n",
       "                display: list-item;\n",
       "            }\n",
       "            .container-fields details > summary:hover {\n",
       "                color: #0A6EAA;\n",
       "            }\n",
       "        </style>\n",
       "        \n",
       "        <script>\n",
       "            function copyToClipboard(text) {\n",
       "                navigator.clipboard.writeText(text).then(function() {\n",
       "                    console.log('Copied to clipboard: ' + text);\n",
       "                }, function(err) {\n",
       "                    console.error('Could not copy text: ', err);\n",
       "                });\n",
       "            }\n",
       "\n",
       "            document.addEventListener('DOMContentLoaded', function() {\n",
       "                let fieldKeys = document.querySelectorAll('.container-fields .field-key');\n",
       "                fieldKeys.forEach(function(fieldKey) {\n",
       "                    fieldKey.addEventListener('click', function() {\n",
       "                        let accessCode = fieldKey.getAttribute('title').replace('Access code: ', '');\n",
       "                        copyToClipboard(accessCode);\n",
       "                    });\n",
       "                });\n",
       "            });\n",
       "        </script>\n",
       "        <div class='container-wrap'><div class='container-header'><div class='xr-obj-type'><h3>camera_device 0 (CameraDevice)</h3></div></div><div style=\"margin-left: 0px;\" class=\"container-fields\"><span class=\"field-key\" title=\".description\">description: </span><span class=\"field-value\">CCTV camera mounted on ceiling above arenas for behavioral recording</span></div><div style=\"margin-left: 0px;\" class=\"container-fields\"><span class=\"field-key\" title=\".meters_per_pixel\">meters_per_pixel: </span><span class=\"field-value\">0.0004</span></div><div style=\"margin-left: 0px;\" class=\"container-fields\"><span class=\"field-key\" title=\".camera_name\">camera_name: </span><span class=\"field-value\">BehavioralCamera</span></div><div style=\"margin-left: 0px;\" class=\"container-fields\"><span class=\"field-key\" title=\".model\">model: </span><span class=\"field-value\">C920</span></div><div style=\"margin-left: 0px;\" class=\"container-fields\"><span class=\"field-key\" title=\".lens\">lens: </span><span class=\"field-value\">Carl Zeiss lens with 20-step autofocus</span></div></div>"
      ],
      "text/plain": [
       "camera_device 0 abc.CameraDevice at 0x1980903163808\n",
       "Fields:\n",
       "  camera_name: BehavioralCamera\n",
       "  description: CCTV camera mounted on ceiling above arenas for behavioral recording\n",
       "  lens: Carl Zeiss lens with 20-step autofocus\n",
       "  meters_per_pixel: 0.0004\n",
       "  model: C920"
      ]
     },
     "execution_count": 10,
     "metadata": {},
     "output_type": "execute_result"
    }
   ],
   "source": [
    "nwbfile.devices[\"camera_device 0\"]"
   ]
  },
  {
   "cell_type": "markdown",
   "id": "a6536705-07a8-44cd-aaa8-8d9e3b7a2da0",
   "metadata": {},
   "source": [
    "# Access Behavioral Video <a name=\"access-behavior\"></a>\n",
    "\n",
    "The behavioral video is stored as an external `ImageSeries` in the NWB file."
   ]
  },
  {
   "cell_type": "code",
   "execution_count": 11,
   "id": "0d2e73af-010d-4e13-b20a-6775ba566630",
   "metadata": {},
   "outputs": [
    {
     "data": {
      "text/html": [
       "\n",
       "        <style>\n",
       "            .container-fields {\n",
       "                font-family: \"Open Sans\", Arial, sans-serif;\n",
       "            }\n",
       "            .container-fields .field-value {\n",
       "                color: #00788E;\n",
       "            }\n",
       "            .container-fields details > summary {\n",
       "                cursor: pointer;\n",
       "                display: list-item;\n",
       "            }\n",
       "            .container-fields details > summary:hover {\n",
       "                color: #0A6EAA;\n",
       "            }\n",
       "        </style>\n",
       "        \n",
       "        <script>\n",
       "            function copyToClipboard(text) {\n",
       "                navigator.clipboard.writeText(text).then(function() {\n",
       "                    console.log('Copied to clipboard: ' + text);\n",
       "                }, function(err) {\n",
       "                    console.error('Could not copy text: ', err);\n",
       "                });\n",
       "            }\n",
       "\n",
       "            document.addEventListener('DOMContentLoaded', function() {\n",
       "                let fieldKeys = document.querySelectorAll('.container-fields .field-key');\n",
       "                fieldKeys.forEach(function(fieldKey) {\n",
       "                    fieldKey.addEventListener('click', function() {\n",
       "                        let accessCode = fieldKey.getAttribute('title').replace('Access code: ', '');\n",
       "                        copyToClipboard(accessCode);\n",
       "                    });\n",
       "                });\n",
       "            });\n",
       "        </script>\n",
       "        <div class='container-wrap'><div class='container-header'><div class='xr-obj-type'><h3>BehavioralVideo (ImageSeries)</h3></div></div><div style=\"margin-left: 0px;\" class=\"container-fields\"><span class=\"field-key\" title=\".resolution\">resolution: </span><span class=\"field-value\">-1.0</span></div><div style=\"margin-left: 0px;\" class=\"container-fields\"><span class=\"field-key\" title=\".comments\">comments: </span><span class=\"field-value\">no comments</span></div><div style=\"margin-left: 0px;\" class=\"container-fields\"><span class=\"field-key\" title=\".description\">description: </span><span class=\"field-value\">Video recording of the rat's behavior. Recorded using a CCTV camera mounted on the ceiling above the arenas.\n",
       "</span></div><div style=\"margin-left: 0px;\" class=\"container-fields\"><span class=\"field-key\" title=\".conversion\">conversion: </span><span class=\"field-value\">1.0</span></div><div style=\"margin-left: 0px;\" class=\"container-fields\"><span class=\"field-key\" title=\".offset\">offset: </span><span class=\"field-value\">0.0</span></div><div style=\"margin-left: 0px;\" class=\"container-fields\"><span class=\"field-key\" title=\".unit\">unit: </span><span class=\"field-value\">Frames</span></div><details><summary style=\"display: list-item; margin-left: 0px;\" class=\"container-fields field-key\" title=\".data\"><b>data</b></summary><div style=\"margin-left: 20px;\" class=\"container-fields\">HDF5 dataset<br><table class=\"data-info\"><tbody><tr><th style=\"text-align: left\">Data type</th><td style=\"text-align: left\">uint8</td></tr><tr><th style=\"text-align: left\">Shape</th><td style=\"text-align: left\">(0, 0, 0)</td></tr><tr><th style=\"text-align: left\">Array size</th><td style=\"text-align: left\">0.00 bytes</td></tr><tr><th style=\"text-align: left\">Chunk shape</th><td style=\"text-align: left\">None</td></tr><tr><th style=\"text-align: left\">Compression</th><td style=\"text-align: left\">None</td></tr><tr><th style=\"text-align: left\">Compression opts</th><td style=\"text-align: left\">None</td></tr><tr><th style=\"text-align: left\">Compression ratio</th><td style=\"text-align: left\">undefined</td></tr></tbody></table><br>[]</div></details><details><summary style=\"display: list-item; margin-left: 0px;\" class=\"container-fields field-key\" title=\".timestamps\"><b>timestamps</b></summary><div style=\"margin-left: 20px;\" class=\"container-fields\">HDF5 dataset<br><table class=\"data-info\"><tbody><tr><th style=\"text-align: left\">Data type</th><td style=\"text-align: left\">float64</td></tr><tr><th style=\"text-align: left\">Shape</th><td style=\"text-align: left\">(76859,)</td></tr><tr><th style=\"text-align: left\">Array size</th><td style=\"text-align: left\">600.46 KiB</td></tr><tr><th style=\"text-align: left\">Chunk shape</th><td style=\"text-align: left\">(76859,)</td></tr><tr><th style=\"text-align: left\">Compression</th><td style=\"text-align: left\">gzip</td></tr><tr><th style=\"text-align: left\">Compression opts</th><td style=\"text-align: left\">4</td></tr><tr><th style=\"text-align: left\">Compression ratio</th><td style=\"text-align: left\">3.934072965053041</td></tr></tbody></table></div></details><div style=\"margin-left: 0px;\" class=\"container-fields\"><span class=\"field-key\" title=\".timestamps_unit\">timestamps_unit: </span><span class=\"field-value\">seconds</span></div><div style=\"margin-left: 0px;\" class=\"container-fields\"><span class=\"field-key\" title=\".interval\">interval: </span><span class=\"field-value\">1</span></div><details><summary style=\"display: list-item; margin-left: 0px;\" class=\"container-fields field-key\" title=\".external_file\"><b>external_file</b></summary><div style=\"margin-left: 20px;\" class=\"container-fields\">HDF5 dataset<br><table class=\"data-info\"><tbody><tr><th style=\"text-align: left\">Data type</th><td style=\"text-align: left\">object</td></tr><tr><th style=\"text-align: left\">Shape</th><td style=\"text-align: left\">(1,)</td></tr><tr><th style=\"text-align: left\">Array size</th><td style=\"text-align: left\">8.00 bytes</td></tr><tr><th style=\"text-align: left\">Chunk shape</th><td style=\"text-align: left\">None</td></tr><tr><th style=\"text-align: left\">Compression</th><td style=\"text-align: left\">None</td></tr><tr><th style=\"text-align: left\">Compression opts</th><td style=\"text-align: left\">None</td></tr><tr><th style=\"text-align: left\">Compression ratio</th><td style=\"text-align: left\">0.5</td></tr></tbody></table><br>[b'sub-408-Arid1b(3)_ses-MI-Test_image\\\\b796ce62-77cd-4588-a290-17d41149cc18_external_file_0.mp4']</div></details><details><summary style=\"display: list-item; margin-left: 0px;\" class=\"container-fields field-key\" title=\".starting_frame\"><b>starting_frame</b></summary><div style=\"margin-left: 20px;\" class=\"container-fields\">NumPy array<br><table class=\"data-info\"><tbody><tr><th style=\"text-align: left\">Data type</th><td style=\"text-align: left\">int32</td></tr><tr><th style=\"text-align: left\">Shape</th><td style=\"text-align: left\">(1,)</td></tr><tr><th style=\"text-align: left\">Array size</th><td style=\"text-align: left\">4.00 bytes</td></tr></tbody></table><br>[0]</div></details><div style=\"margin-left: 0px;\" class=\"container-fields\"><span class=\"field-key\" title=\".format\">format: </span><span class=\"field-value\">external</span></div><details><summary style=\"display: list-item; margin-left: 0px;\" class=\"container-fields field-key\" title=\".device\"><b>device</b></summary><div style=\"margin-left: 20px;\" class=\"container-fields\"><span class=\"field-key\" title=\".device.description\">description: </span><span class=\"field-value\">CCTV camera mounted on ceiling above arenas for behavioral recording</span></div><div style=\"margin-left: 20px;\" class=\"container-fields\"><span class=\"field-key\" title=\".device.meters_per_pixel\">meters_per_pixel: </span><span class=\"field-value\">0.0004</span></div><div style=\"margin-left: 20px;\" class=\"container-fields\"><span class=\"field-key\" title=\".device.camera_name\">camera_name: </span><span class=\"field-value\">BehavioralCamera</span></div><div style=\"margin-left: 20px;\" class=\"container-fields\"><span class=\"field-key\" title=\".device.model\">model: </span><span class=\"field-value\">C920</span></div><div style=\"margin-left: 20px;\" class=\"container-fields\"><span class=\"field-key\" title=\".device.lens\">lens: </span><span class=\"field-value\">Carl Zeiss lens with 20-step autofocus</span></div></details></div>"
      ],
      "text/plain": [
       "BehavioralVideo pynwb.image.ImageSeries at 0x1980901846496\n",
       "Fields:\n",
       "  comments: no comments\n",
       "  conversion: 1.0\n",
       "  data: <HDF5 dataset \"data\": shape (0, 0, 0), type \"|u1\">\n",
       "  description: Video recording of the rat's behavior. Recorded using a CCTV camera mounted on the ceiling above the arenas.\n",
       "\n",
       "  device: camera_device 0 abc.CameraDevice at 0x1980903163808\n",
       "Fields:\n",
       "  camera_name: BehavioralCamera\n",
       "  description: CCTV camera mounted on ceiling above arenas for behavioral recording\n",
       "  lens: Carl Zeiss lens with 20-step autofocus\n",
       "  meters_per_pixel: 0.0004\n",
       "  model: C920\n",
       "\n",
       "  external_file: <StrDataset for HDF5 dataset \"external_file\": shape (1,), type \"|O\">\n",
       "  format: external\n",
       "  interval: 1\n",
       "  offset: 0.0\n",
       "  resolution: -1.0\n",
       "  starting_frame: [0]\n",
       "  timestamps: <HDF5 dataset \"timestamps\": shape (76859,), type \"<f8\">\n",
       "  timestamps_unit: seconds\n",
       "  unit: Frames"
      ]
     },
     "execution_count": 11,
     "metadata": {},
     "output_type": "execute_result"
    }
   ],
   "source": [
    "video = nwbfile.acquisition[\"BehavioralVideo\"]\n",
    "video"
   ]
  },
  {
   "cell_type": "markdown",
   "id": "e56d650e-9593-4468-96e3-40c3bf8f55ac",
   "metadata": {},
   "source": [
    "The video filepath:"
   ]
  },
  {
   "cell_type": "code",
   "execution_count": 12,
   "id": "a391d8b0-3004-4785-8a0a-c3faf78324d2",
   "metadata": {},
   "outputs": [
    {
     "data": {
      "text/plain": [
       "'sub-408-Arid1b(3)_ses-MI-Test_image\\\\b796ce62-77cd-4588-a290-17d41149cc18_external_file_0.mp4'"
      ]
     },
     "execution_count": 12,
     "metadata": {},
     "output_type": "execute_result"
    }
   ],
   "source": [
    "video.external_file[0]"
   ]
  },
  {
   "cell_type": "markdown",
   "id": "99560f6f-54e0-4fc4-84e6-aec9d64a70fd",
   "metadata": {},
   "source": [
    "The metadata of the device used to record the behavioral video:\n"
   ]
  },
  {
   "cell_type": "code",
   "execution_count": 13,
   "id": "ee6c8828-7458-4dec-9e6b-1414c2e8a602",
   "metadata": {},
   "outputs": [
    {
     "data": {
      "text/html": [
       "\n",
       "        <style>\n",
       "            .container-fields {\n",
       "                font-family: \"Open Sans\", Arial, sans-serif;\n",
       "            }\n",
       "            .container-fields .field-value {\n",
       "                color: #00788E;\n",
       "            }\n",
       "            .container-fields details > summary {\n",
       "                cursor: pointer;\n",
       "                display: list-item;\n",
       "            }\n",
       "            .container-fields details > summary:hover {\n",
       "                color: #0A6EAA;\n",
       "            }\n",
       "        </style>\n",
       "        \n",
       "        <script>\n",
       "            function copyToClipboard(text) {\n",
       "                navigator.clipboard.writeText(text).then(function() {\n",
       "                    console.log('Copied to clipboard: ' + text);\n",
       "                }, function(err) {\n",
       "                    console.error('Could not copy text: ', err);\n",
       "                });\n",
       "            }\n",
       "\n",
       "            document.addEventListener('DOMContentLoaded', function() {\n",
       "                let fieldKeys = document.querySelectorAll('.container-fields .field-key');\n",
       "                fieldKeys.forEach(function(fieldKey) {\n",
       "                    fieldKey.addEventListener('click', function() {\n",
       "                        let accessCode = fieldKey.getAttribute('title').replace('Access code: ', '');\n",
       "                        copyToClipboard(accessCode);\n",
       "                    });\n",
       "                });\n",
       "            });\n",
       "        </script>\n",
       "        <div class='container-wrap'><div class='container-header'><div class='xr-obj-type'><h3>camera_device 0 (CameraDevice)</h3></div></div><div style=\"margin-left: 0px;\" class=\"container-fields\"><span class=\"field-key\" title=\".description\">description: </span><span class=\"field-value\">CCTV camera mounted on ceiling above arenas for behavioral recording</span></div><div style=\"margin-left: 0px;\" class=\"container-fields\"><span class=\"field-key\" title=\".meters_per_pixel\">meters_per_pixel: </span><span class=\"field-value\">0.0004</span></div><div style=\"margin-left: 0px;\" class=\"container-fields\"><span class=\"field-key\" title=\".camera_name\">camera_name: </span><span class=\"field-value\">BehavioralCamera</span></div><div style=\"margin-left: 0px;\" class=\"container-fields\"><span class=\"field-key\" title=\".model\">model: </span><span class=\"field-value\">C920</span></div><div style=\"margin-left: 0px;\" class=\"container-fields\"><span class=\"field-key\" title=\".lens\">lens: </span><span class=\"field-value\">Carl Zeiss lens with 20-step autofocus</span></div></div>"
      ],
      "text/plain": [
       "camera_device 0 abc.CameraDevice at 0x1980903163808\n",
       "Fields:\n",
       "  camera_name: BehavioralCamera\n",
       "  description: CCTV camera mounted on ceiling above arenas for behavioral recording\n",
       "  lens: Carl Zeiss lens with 20-step autofocus\n",
       "  meters_per_pixel: 0.0004\n",
       "  model: C920"
      ]
     },
     "execution_count": 13,
     "metadata": {},
     "output_type": "execute_result"
    }
   ],
   "source": [
    "video.device"
   ]
  },
  {
   "cell_type": "markdown",
   "id": "a642e25b-e238-4134-ad88-0dc68b19fc98",
   "metadata": {},
   "source": [
    "# Access Annotated Behavioral Events <a name=\"access-events\"></a>\n",
    "\n",
    "The `nwbfile.processing[\"events]` contains annotated events. These are stored in the `AnnotatedEventsTable` type. The `AnnotatedEventsTable` type is a subtype of `DynamicTable`, where each row corresponds to a different event type. The table has a ragged (variable-length) 1D column of event times, such that each event type (row) is associated with an array of event times\n",
    "\n",
    "You can convert the table to a `pandas.DataFrame` for easier exploration:\n"
   ]
  },
  {
   "cell_type": "code",
   "execution_count": 14,
   "id": "090c67b0-f68b-4e24-ae8e-d9ad8911dec9",
   "metadata": {},
   "outputs": [],
   "source": [
    "behavioral_events = nwbfile.processing[\"behavior\"][\"AnnotatedBehavioralEvents\"].to_dataframe()"
   ]
  },
  {
   "cell_type": "code",
   "execution_count": 15,
   "id": "d0b1f7dd",
   "metadata": {},
   "outputs": [
    {
     "name": "stderr",
     "output_type": "stream",
     "text": [
      "C:\\Users\\Utente\\AppData\\Local\\Temp\\ipykernel_37036\\853228197.py:22: UserWarning: Setting the 'color' property will override the edgecolor or facecolor properties.\n",
      "  rect = plt.Rectangle((time, idx-0.4), duration, 0.8,\n"
     ]
    },
    {
     "data": {
      "image/png": "[encoded data removed]",
      "text/plain": [
       "<Figure size 1200x600 with 1 Axes>"
      ]
     },
     "metadata": {},
     "output_type": "display_data"
    }
   ],
   "source": [
    "import numpy as np\n",
    "import matplotlib.pyplot as plt\n",
    "\n",
    "# Create a figure with subplots\n",
    "fig, ax = plt.subplots(figsize=(12, 6))\n",
    "\n",
    "# Extract event types and their times\n",
    "for idx, row in behavioral_events.iterrows():\n",
    "    label = row['label']\n",
    "    times = np.array(row['event_times'])\n",
    "    durations = np.array(row['duration'])\n",
    "    \n",
    "    # For start/stop events, plot vertical lines as before\n",
    "    if label == 'start/stop':\n",
    "        ax.axvline(x=times[0], color='green', linestyle='--', label='Start')\n",
    "        ax.axvline(x=times[1], color='red', linestyle='--', label='Stop')\n",
    "    else:\n",
    "        # For paw on marble events, plot faded rectangles\n",
    "        for i, (time, duration) in enumerate(zip(times, durations)):\n",
    "            if not np.isnan(duration):\n",
    "                # Add a faded rectangle for the duration of the event\n",
    "                rect = plt.Rectangle((time, idx-0.4), duration, 0.8, \n",
    "                                    alpha=0.3, color='blue', \n",
    "                                    edgecolor='blue', linewidth=1)\n",
    "                ax.add_patch(rect)\n",
    "                \n",
    "                # Add a dot at the start of each event\n",
    "                ax.plot(time, idx, 'bo', markersize=4)\n",
    "\n",
    "# Add labels and title\n",
    "ax.set_xlabel('Time (seconds)')\n",
    "ax.set_yticks(range(len(behavioral_events)))\n",
    "ax.set_yticklabels(behavioral_events['label'])\n",
    "ax.set_title('Behavioral Events Timeline')\n",
    "ax.grid(True, axis='x', linestyle='--', alpha=0.7)\n",
    "\n",
    "# Add legend\n",
    "handles, labels = ax.get_legend_handles_labels()\n",
    "by_label = dict(zip(labels, handles))\n",
    "ax.legend(by_label.values(), by_label.keys(), loc='upper right')\n",
    "\n",
    "# Add a blue patch to the legend for the paw on marble events\n",
    "from matplotlib.patches import Patch\n",
    "blue_patch = Patch(color='blue', alpha=0.3, label='Paw on marble')\n",
    "ax.legend(handles=[*by_label.values(), blue_patch], labels=[*by_label.keys(), 'Paw on marble'], loc='upper right')\n",
    "\n",
    "plt.tight_layout()\n",
    "plt.show()"
   ]
  }
 ],
 "metadata": {
  "kernelspec": {
   "display_name": "kind_lab_to_nwb_env",
   "language": "python",
   "name": "python3"
  },
  "language_info": {
   "codemirror_mode": {
    "name": "ipython",
    "version": 3
   },
   "file_extension": ".py",
   "mimetype": "text/x-python",
   "name": "python",
   "nbconvert_exporter": "python",
   "pygments_lexer": "ipython3",
   "version": "3.12.8"
  }
 },
 "nbformat": 4,
 "nbformat_minor": 5
}
