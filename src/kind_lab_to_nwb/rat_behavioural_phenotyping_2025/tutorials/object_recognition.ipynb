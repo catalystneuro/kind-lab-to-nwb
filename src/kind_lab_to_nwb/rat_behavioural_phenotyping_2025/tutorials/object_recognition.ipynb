{
 "cells": [
  {
   "cell_type": "markdown",
   "id": "968aef84-bc0f-4c6c-8350-bd003217be62",
   "metadata": {},
   "source": [
    "# Object Recognition in Autism-Related Rat Models: Behavioral Phenotyping of Arid1b, Grin2b, and Scn2a Strains\n",
    "\n",
    "This tutorial shows how to access the data related to [EMBER:000202](https://dandi.emberarchive.org/dandiset/000202) using pynwb.\n",
    "\n",
    "This dataset contains behavioral data from the object recognition experiment, part of the [Rat Behavioural Phenotyping Pipeline Methodologies](https://sidb.org.uk/facilities/rat-behavioural-phenotyping-pipeline/).\n",
    "\n",
    "Contents:\n",
    "\n",
    "- [Reading NWBFile locally](#read-nwb)\n",
    "- [Access Subject Metadata](#access-subject)\n",
    "- [Access Devices Metadata](#access-devices)\n",
    "- [Access Behavioral Videos](#access-behavior)\n",
    "- [Access Annotated Behavioral Events](#access-events)\n",
    "\n"
   ]
  },
  {
   "cell_type": "markdown",
   "id": "5dd37e61",
   "metadata": {},
   "source": [
    "# Select the subject and session to load"
   ]
  },
  {
   "cell_type": "code",
   "execution_count": 1,
   "id": "481169fe",
   "metadata": {},
   "outputs": [],
   "source": [
    "emberset_id = \"000202\"\n",
    "session_id = \"OR_STM-2022-11-07\"\n",
    "subject_id = \"408-Arid1b(3)\""
   ]
  },
  {
   "cell_type": "markdown",
   "id": "b37ec519-2b98-457a-95c9-5d3c4d5f686f",
   "metadata": {},
   "source": [
    "# Reading an NWB file locally<a id=\"read-nwb\"></a>\n",
    "\n",
    "\n",
    "This section demonstrates how to read an NWB file using `pynwb`.\n",
    "\n",
    "Based on the [NWB File Basics](https://pynwb.readthedocs.io/en/stable/tutorials/general/plot_file.html#sphx-glr-tutorials-general-plot-file-py) tutorial from [PyNWB](https://pynwb.readthedocs.io/en/stable/#).\n",
    "\n",
    "An [NWBFile](https://pynwb.readthedocs.io/en/stable/pynwb.file.html#pynwb.file.NWBFile) represents a single session of an experiment. Each NWBFile must have a `session description`, `identifier`, and `session start time`.\n",
    "\n",
    "Reading is carried out using the [NWBHDF5IO](https://pynwb.readthedocs.io/en/stable/pynwb.html#pynwb.NWBHDF5IO) class. To read the NWB file use the read mode (\"r\") to retrieve an NWBFile object."
   ]
  },
  {
   "cell_type": "code",
   "execution_count": 2,
   "id": "65e512d772fad3eb",
   "metadata": {},
   "outputs": [],
   "source": [
    "from pynwb import NWBHDF5IO\n",
    "from pathlib import Path\n",
    "# Define the path to the NWB file\n",
    "directory = Path(\"D:/kind_lab_conversion_nwb/behavioural_pipeline/object_recognition\")\n",
    "nwbfile_path = directory / f\"sub-{subject_id}_ses-{session_id}.nwb\"\n",
    "io = NWBHDF5IO(path=nwbfile_path, load_namespaces=True)\n",
    "nwbfile = io.read()"
   ]
  },
  {
   "cell_type": "code",
   "execution_count": 3,
   "id": "ea96c9cdf882692b",
   "metadata": {},
   "outputs": [
    {
     "name": "stdout",
     "output_type": "stream",
     "text": [
      "This experiment is part of the Rat Behavioural Phenotyping Pipeline Methodologies https://sidb.org.uk/facilities/rat-behavioural-phenotyping-pipeline/.\n",
      "As an initial effort to characterize the rat lines, these models are being behaviorally phenotyped at SIDB. \n",
      "Rat models are phenotyped according to a rigorous pipeline that assesses behaviours relevant to autism with intellectual disability, such as social and motor skills, and learning and sensory processing. \n",
      "Different cohorts of rats are run through different subsets of tasks to overcome potential order effects on behaviours and to limit the number of tasks each animal is put through.\n",
      "This experiment investigated object recognition memory in different rat models \n",
      "(Arid1b: https://rgd.mcw.edu/rgdweb/report/strain/main.html?id=14394518, \n",
      "Grin2b: https://rgd.mcw.edu/rgdweb/report/strain/main.html?id=14394515, \n",
      "Scn2a: https://rgd.mcw.edu/rgdweb/report/strain/main.html?id=25394530).\n",
      "The experimenter was blind to genotype throughout the experiment and watched the trials on a screen from outside the testing room.\n",
      "The task utilized a custom-built arena (60x60 cm) with black laminated wood walls and grey lino floor.\n",
      "Rats underwent habituation (3 days, 10 min each) followed by sample and test trials to assess their ability to recognize novel objects.\n",
      "The protocol included sample trials (15 min with two identical objects) and test trials (3 min) with one novel object.\n",
      "Both short-term (5 min delay) and long-term (24 hr delay) memory were assessed.\n",
      "Object exploration was recorded via CCTV camera and manually scored using BORIS software.\n",
      "\n"
     ]
    }
   ],
   "source": [
    "print(nwbfile.experiment_description)"
   ]
  },
  {
   "cell_type": "code",
   "execution_count": 4,
   "id": "47811cb2d7e22d23",
   "metadata": {},
   "outputs": [
    {
     "name": "stdout",
     "output_type": "stream",
     "text": [
      "Experimental Day 5. Short-term memory test. \n",
      "Two identical objects (e.g. ceramic tea lights, glass ornaments, never face or animal related) \n",
      "were fixed in position (approximately 15 cm from the side and top edge of the arena). \n",
      "A rat was placed individually in the arena with the objects for a 15 min sample trial. \n",
      "The rat was then removed and placed in the holding bucket for 5 min. \n",
      "The objects were removed from the arena, the arena was cleaned with 70% ethanol and the objects \n",
      "replaced with a replica object and one novel object (counterbalanced for location and object between rats). \n",
      "The rat was returned to the arena for a 3 min test trial, 5 min after the sample trial.\n",
      "\n"
     ]
    }
   ],
   "source": [
    "print(nwbfile.session_description)"
   ]
  },
  {
   "cell_type": "markdown",
   "id": "85cbfb3e-4654-425d-9d3a-b604180f04f5",
   "metadata": {},
   "source": [
    "Importantly, the `session start time` is the reference time for all timestamps in the file. For instance, an event with a timestamp of 0 in the file means the event occurred exactly at the session start time.\n",
    "\n",
    "The `session_start_time` is extracted from the Freeze_Log.xls table."
   ]
  },
  {
   "cell_type": "code",
   "execution_count": 5,
   "id": "initial_id",
   "metadata": {},
   "outputs": [
    {
     "name": "stdout",
     "output_type": "stream",
     "text": [
      "2022-11-07 09:49:45+01:00\n"
     ]
    }
   ],
   "source": [
    "print(nwbfile.session_start_time)"
   ]
  },
  {
   "cell_type": "markdown",
   "id": "aee0a413-963b-4576-8d18-ba2c91c23f83",
   "metadata": {},
   "source": [
    "# Access Subject Metadata <a name=\"access-subject\"></a>\n",
    "\n",
    "This section demonstrates how to access the [Subject](https://pynwb.readthedocs.io/en/stable/pynwb.file.html#pynwb.file.Subject) field in an NWB file.\n",
    "\n",
    "The [Subject](https://pynwb.readthedocs.io/en/stable/pynwb.file.html#pynwb.file.Subject) field can be accessed as `nwbfile.subject`.\n"
   ]
  },
  {
   "cell_type": "code",
   "execution_count": 6,
   "id": "0794a61a-76c8-43ef-836d-1835ca7733e2",
   "metadata": {},
   "outputs": [
    {
     "data": {
      "text/html": [
       "\n",
       "        <style>\n",
       "            .container-fields {\n",
       "                font-family: \"Open Sans\", Arial, sans-serif;\n",
       "            }\n",
       "            .container-fields .field-value {\n",
       "                color: #00788E;\n",
       "            }\n",
       "            .container-fields details > summary {\n",
       "                cursor: pointer;\n",
       "                display: list-item;\n",
       "            }\n",
       "            .container-fields details > summary:hover {\n",
       "                color: #0A6EAA;\n",
       "            }\n",
       "        </style>\n",
       "        \n",
       "        <script>\n",
       "            function copyToClipboard(text) {\n",
       "                navigator.clipboard.writeText(text).then(function() {\n",
       "                    console.log('Copied to clipboard: ' + text);\n",
       "                }, function(err) {\n",
       "                    console.error('Could not copy text: ', err);\n",
       "                });\n",
       "            }\n",
       "\n",
       "            document.addEventListener('DOMContentLoaded', function() {\n",
       "                let fieldKeys = document.querySelectorAll('.container-fields .field-key');\n",
       "                fieldKeys.forEach(function(fieldKey) {\n",
       "                    fieldKey.addEventListener('click', function() {\n",
       "                        let accessCode = fieldKey.getAttribute('title').replace('Access code: ', '');\n",
       "                        copyToClipboard(accessCode);\n",
       "                    });\n",
       "                });\n",
       "            });\n",
       "        </script>\n",
       "        <div class='container-wrap'><div class='container-header'><div class='xr-obj-type'><h3>subject (Subject)</h3></div></div><div style=\"margin-left: 0px;\" class=\"container-fields\"><span class=\"field-key\" title=\".age__reference\">age__reference: </span><span class=\"field-value\">birth</span></div><div style=\"margin-left: 0px;\" class=\"container-fields\"><span class=\"field-key\" title=\".description\">description: </span><span class=\"field-value\">Subject housed in standard housing conditions. Cage identifier: 1.0.</span></div><div style=\"margin-left: 0px;\" class=\"container-fields\"><span class=\"field-key\" title=\".genotype\">genotype: </span><span class=\"field-value\">WT</span></div><div style=\"margin-left: 0px;\" class=\"container-fields\"><span class=\"field-key\" title=\".sex\">sex: </span><span class=\"field-value\">M</span></div><div style=\"margin-left: 0px;\" class=\"container-fields\"><span class=\"field-key\" title=\".species\">species: </span><span class=\"field-value\">Rattus norvegicus</span></div><div style=\"margin-left: 0px;\" class=\"container-fields\"><span class=\"field-key\" title=\".subject_id\">subject_id: </span><span class=\"field-value\">408-Arid1b(3)</span></div><details><summary style=\"display: list-item; margin-left: 0px;\" class=\"container-fields field-key\" title=\".date_of_birth\"><b>date_of_birth</b></summary><span class=\"field-key\">2022-09-02 00:00:00+02:00</span></details><div style=\"margin-left: 0px;\" class=\"container-fields\"><span class=\"field-key\" title=\".strain\">strain: </span><span class=\"field-value\">Arid1b</span></div></div>"
      ],
      "text/plain": [
       "subject pynwb.file.Subject at 0x1917283425200\n",
       "Fields:\n",
       "  age__reference: birth\n",
       "  date_of_birth: 2022-09-02 00:00:00+02:00\n",
       "  description: Subject housed in standard housing conditions. Cage identifier: 1.0.\n",
       "  genotype: WT\n",
       "  sex: M\n",
       "  species: Rattus norvegicus\n",
       "  strain: Arid1b\n",
       "  subject_id: 408-Arid1b(3)"
      ]
     },
     "execution_count": 6,
     "metadata": {},
     "output_type": "execute_result"
    }
   ],
   "source": [
    "nwbfile.subject"
   ]
  },
  {
   "cell_type": "markdown",
   "id": "f4b61d49",
   "metadata": {},
   "source": [
    "# Access Devices Metadata <a name=\"access-devices\"></a>\n",
    "\n",
    "This section demonstrates how to access the [Device](https://pynwb.readthedocs.io/en/stable/pynwb.device.html#module-pynwb.device) field in an NWB file.\n",
    "\n",
    "The [Device](https://pynwb.readthedocs.io/en/stable/pynwb.device.html#module-pynwb.device) field can be accessed as `nwbfile.devices`."
   ]
  },
  {
   "cell_type": "code",
   "execution_count": 7,
   "id": "cd85667c",
   "metadata": {},
   "outputs": [
    {
     "data": {
      "text/html": [
       "\n",
       "        <style>\n",
       "            .container-fields {\n",
       "                font-family: \"Open Sans\", Arial, sans-serif;\n",
       "            }\n",
       "            .container-fields .field-value {\n",
       "                color: #00788E;\n",
       "            }\n",
       "            .container-fields details > summary {\n",
       "                cursor: pointer;\n",
       "                display: list-item;\n",
       "            }\n",
       "            .container-fields details > summary:hover {\n",
       "                color: #0A6EAA;\n",
       "            }\n",
       "        </style>\n",
       "        \n",
       "        <script>\n",
       "            function copyToClipboard(text) {\n",
       "                navigator.clipboard.writeText(text).then(function() {\n",
       "                    console.log('Copied to clipboard: ' + text);\n",
       "                }, function(err) {\n",
       "                    console.error('Could not copy text: ', err);\n",
       "                });\n",
       "            }\n",
       "\n",
       "            document.addEventListener('DOMContentLoaded', function() {\n",
       "                let fieldKeys = document.querySelectorAll('.container-fields .field-key');\n",
       "                fieldKeys.forEach(function(fieldKey) {\n",
       "                    fieldKey.addEventListener('click', function() {\n",
       "                        let accessCode = fieldKey.getAttribute('title').replace('Access code: ', '');\n",
       "                        copyToClipboard(accessCode);\n",
       "                    });\n",
       "                });\n",
       "            });\n",
       "        </script>\n",
       "        <div class='container-wrap'><div class='container-header'><div class='xr-obj-type'><h3>Arena (Device)</h3></div></div><div style=\"margin-left: 0px;\" class=\"container-fields\"><span class=\"field-key\" title=\".description\">description: </span><span class=\"field-value\">Custom built arena (60x60 cm) with black laminated wood walls and grey lino floor.The light intensity was uniformly maintained at ~20 lx. Objects were secured in fixed locations within the arena using 3m Dualock tape.</span></div><div style=\"margin-left: 0px;\" class=\"container-fields\"><span class=\"field-key\" title=\".manufacturer\">manufacturer: </span><span class=\"field-value\">Kanya UK</span></div></div>"
      ],
      "text/plain": [
       "Arena pynwb.device.Device at 0x1917699107888\n",
       "Fields:\n",
       "  description: Custom built arena (60x60 cm) with black laminated wood walls and grey lino floor.The light intensity was uniformly maintained at ~20 lx. Objects were secured in fixed locations within the arena using 3m Dualock tape.\n",
       "  manufacturer: Kanya UK"
      ]
     },
     "execution_count": 7,
     "metadata": {},
     "output_type": "execute_result"
    }
   ],
   "source": [
    "nwbfile.devices[\"Arena\"]"
   ]
  },
  {
   "cell_type": "code",
   "execution_count": 10,
   "id": "c47a1c0e",
   "metadata": {},
   "outputs": [
    {
     "data": {
      "text/html": [
       "\n",
       "        <style>\n",
       "            .container-fields {\n",
       "                font-family: \"Open Sans\", Arial, sans-serif;\n",
       "            }\n",
       "            .container-fields .field-value {\n",
       "                color: #00788E;\n",
       "            }\n",
       "            .container-fields details > summary {\n",
       "                cursor: pointer;\n",
       "                display: list-item;\n",
       "            }\n",
       "            .container-fields details > summary:hover {\n",
       "                color: #0A6EAA;\n",
       "            }\n",
       "        </style>\n",
       "        \n",
       "        <script>\n",
       "            function copyToClipboard(text) {\n",
       "                navigator.clipboard.writeText(text).then(function() {\n",
       "                    console.log('Copied to clipboard: ' + text);\n",
       "                }, function(err) {\n",
       "                    console.error('Could not copy text: ', err);\n",
       "                });\n",
       "            }\n",
       "\n",
       "            document.addEventListener('DOMContentLoaded', function() {\n",
       "                let fieldKeys = document.querySelectorAll('.container-fields .field-key');\n",
       "                fieldKeys.forEach(function(fieldKey) {\n",
       "                    fieldKey.addEventListener('click', function() {\n",
       "                        let accessCode = fieldKey.getAttribute('title').replace('Access code: ', '');\n",
       "                        copyToClipboard(accessCode);\n",
       "                    });\n",
       "                });\n",
       "            });\n",
       "        </script>\n",
       "        <div class='container-wrap'><div class='container-header'><div class='xr-obj-type'><h3>camera_device 0 (CameraDevice)</h3></div></div><div style=\"margin-left: 0px;\" class=\"container-fields\"><span class=\"field-key\" title=\".description\">description: </span><span class=\"field-value\">CCTV camera mounted on ceiling above arenas for behavioral recording</span></div><div style=\"margin-left: 0px;\" class=\"container-fields\"><span class=\"field-key\" title=\".meters_per_pixel\">meters_per_pixel: </span><span class=\"field-value\">0.0004</span></div><div style=\"margin-left: 0px;\" class=\"container-fields\"><span class=\"field-key\" title=\".camera_name\">camera_name: </span><span class=\"field-value\">BehavioralCamera</span></div><div style=\"margin-left: 0px;\" class=\"container-fields\"><span class=\"field-key\" title=\".model\">model: </span><span class=\"field-value\">C920</span></div><div style=\"margin-left: 0px;\" class=\"container-fields\"><span class=\"field-key\" title=\".lens\">lens: </span><span class=\"field-value\">Carl Zeiss lens with 20-step autofocus</span></div></div>"
      ],
      "text/plain": [
       "camera_device 0 abc.CameraDevice at 0x1917699107840\n",
       "Fields:\n",
       "  camera_name: BehavioralCamera\n",
       "  description: CCTV camera mounted on ceiling above arenas for behavioral recording\n",
       "  lens: Carl Zeiss lens with 20-step autofocus\n",
       "  meters_per_pixel: 0.0004\n",
       "  model: C920"
      ]
     },
     "execution_count": 10,
     "metadata": {},
     "output_type": "execute_result"
    }
   ],
   "source": [
    "nwbfile.devices[\"camera_device 0\"]"
   ]
  },
  {
   "cell_type": "markdown",
   "id": "a6536705-07a8-44cd-aaa8-8d9e3b7a2da0",
   "metadata": {},
   "source": [
    "# Access Behavioral Video <a name=\"access-behavior\"></a>\n",
    "\n",
    "The behavioral video is stored as an external `ImageSeries` in the NWB file."
   ]
  },
  {
   "cell_type": "code",
   "execution_count": 11,
   "id": "fd83e586",
   "metadata": {},
   "outputs": [
    {
     "name": "stdout",
     "output_type": "stream",
     "text": [
      "BehavioralVideoSampleTrial\n",
      "BehavioralVideoTestTrial\n"
     ]
    }
   ],
   "source": [
    "# List all behavioral video acquisitions\n",
    "for name in nwbfile.acquisition:\n",
    "    if \"BehavioralVideo\" in name:\n",
    "        print(name)"
   ]
  },
  {
   "cell_type": "code",
   "execution_count": 12,
   "id": "0d2e73af-010d-4e13-b20a-6775ba566630",
   "metadata": {},
   "outputs": [
    {
     "data": {
      "text/html": [
       "\n",
       "        <style>\n",
       "            .container-fields {\n",
       "                font-family: \"Open Sans\", Arial, sans-serif;\n",
       "            }\n",
       "            .container-fields .field-value {\n",
       "                color: #00788E;\n",
       "            }\n",
       "            .container-fields details > summary {\n",
       "                cursor: pointer;\n",
       "                display: list-item;\n",
       "            }\n",
       "            .container-fields details > summary:hover {\n",
       "                color: #0A6EAA;\n",
       "            }\n",
       "        </style>\n",
       "        \n",
       "        <script>\n",
       "            function copyToClipboard(text) {\n",
       "                navigator.clipboard.writeText(text).then(function() {\n",
       "                    console.log('Copied to clipboard: ' + text);\n",
       "                }, function(err) {\n",
       "                    console.error('Could not copy text: ', err);\n",
       "                });\n",
       "            }\n",
       "\n",
       "            document.addEventListener('DOMContentLoaded', function() {\n",
       "                let fieldKeys = document.querySelectorAll('.container-fields .field-key');\n",
       "                fieldKeys.forEach(function(fieldKey) {\n",
       "                    fieldKey.addEventListener('click', function() {\n",
       "                        let accessCode = fieldKey.getAttribute('title').replace('Access code: ', '');\n",
       "                        copyToClipboard(accessCode);\n",
       "                    });\n",
       "                });\n",
       "            });\n",
       "        </script>\n",
       "        <div class='container-wrap'><div class='container-header'><div class='xr-obj-type'><h3>BehavioralVideoTestTrial (ImageSeries)</h3></div></div><div style=\"margin-left: 0px;\" class=\"container-fields\"><span class=\"field-key\" title=\".resolution\">resolution: </span><span class=\"field-value\">-1.0</span></div><div style=\"margin-left: 0px;\" class=\"container-fields\"><span class=\"field-key\" title=\".comments\">comments: </span><span class=\"field-value\">no comments</span></div><div style=\"margin-left: 0px;\" class=\"container-fields\"><span class=\"field-key\" title=\".description\">description: </span><span class=\"field-value\">Video recording of the rat's behavior during the test trial. Recorded using a CCTV camera mounted on the ceiling above the arenas.\n",
       "</span></div><div style=\"margin-left: 0px;\" class=\"container-fields\"><span class=\"field-key\" title=\".conversion\">conversion: </span><span class=\"field-value\">1.0</span></div><div style=\"margin-left: 0px;\" class=\"container-fields\"><span class=\"field-key\" title=\".offset\">offset: </span><span class=\"field-value\">0.0</span></div><div style=\"margin-left: 0px;\" class=\"container-fields\"><span class=\"field-key\" title=\".unit\">unit: </span><span class=\"field-value\">Frames</span></div><details><summary style=\"display: list-item; margin-left: 0px;\" class=\"container-fields field-key\" title=\".data\"><b>data</b></summary><div style=\"margin-left: 20px;\" class=\"container-fields\">HDF5 dataset<br><table class=\"data-info\"><tbody><tr><th style=\"text-align: left\">Data type</th><td style=\"text-align: left\">uint8</td></tr><tr><th style=\"text-align: left\">Shape</th><td style=\"text-align: left\">(0, 0, 0)</td></tr><tr><th style=\"text-align: left\">Array size</th><td style=\"text-align: left\">0.00 bytes</td></tr><tr><th style=\"text-align: left\">Chunk shape</th><td style=\"text-align: left\">None</td></tr><tr><th style=\"text-align: left\">Compression</th><td style=\"text-align: left\">None</td></tr><tr><th style=\"text-align: left\">Compression opts</th><td style=\"text-align: left\">None</td></tr><tr><th style=\"text-align: left\">Compression ratio</th><td style=\"text-align: left\">undefined</td></tr></tbody></table><br>[]</div></details><details><summary style=\"display: list-item; margin-left: 0px;\" class=\"container-fields field-key\" title=\".timestamps\"><b>timestamps</b></summary><div style=\"margin-left: 20px;\" class=\"container-fields\">HDF5 dataset<br><table class=\"data-info\"><tbody><tr><th style=\"text-align: left\">Data type</th><td style=\"text-align: left\">float64</td></tr><tr><th style=\"text-align: left\">Shape</th><td style=\"text-align: left\">(4788,)</td></tr><tr><th style=\"text-align: left\">Array size</th><td style=\"text-align: left\">37.41 KiB</td></tr><tr><th style=\"text-align: left\">Chunk shape</th><td style=\"text-align: left\">(4788,)</td></tr><tr><th style=\"text-align: left\">Compression</th><td style=\"text-align: left\">gzip</td></tr><tr><th style=\"text-align: left\">Compression opts</th><td style=\"text-align: left\">4</td></tr><tr><th style=\"text-align: left\">Compression ratio</th><td style=\"text-align: left\">3.6679115196782535</td></tr></tbody></table></div></details><div style=\"margin-left: 0px;\" class=\"container-fields\"><span class=\"field-key\" title=\".timestamps_unit\">timestamps_unit: </span><span class=\"field-value\">seconds</span></div><div style=\"margin-left: 0px;\" class=\"container-fields\"><span class=\"field-key\" title=\".interval\">interval: </span><span class=\"field-value\">1</span></div><details><summary style=\"display: list-item; margin-left: 0px;\" class=\"container-fields field-key\" title=\".external_file\"><b>external_file</b></summary><div style=\"margin-left: 20px;\" class=\"container-fields\">HDF5 dataset<br><table class=\"data-info\"><tbody><tr><th style=\"text-align: left\">Data type</th><td style=\"text-align: left\">object</td></tr><tr><th style=\"text-align: left\">Shape</th><td style=\"text-align: left\">(1,)</td></tr><tr><th style=\"text-align: left\">Array size</th><td style=\"text-align: left\">8.00 bytes</td></tr><tr><th style=\"text-align: left\">Chunk shape</th><td style=\"text-align: left\">None</td></tr><tr><th style=\"text-align: left\">Compression</th><td style=\"text-align: left\">None</td></tr><tr><th style=\"text-align: left\">Compression opts</th><td style=\"text-align: left\">None</td></tr><tr><th style=\"text-align: left\">Compression ratio</th><td style=\"text-align: left\">0.5</td></tr></tbody></table><br>[b'D:\\\\Kind-CN-data-share\\\\behavioural_pipeline\\\\Object Recognition\\\\Arid1b\\\\Arid1b(3)_OR\\\\Test STM\\\\converted\\\\2022-11-07 10-10-30_408_test.mp4']</div></details><details><summary style=\"display: list-item; margin-left: 0px;\" class=\"container-fields field-key\" title=\".starting_frame\"><b>starting_frame</b></summary><div style=\"margin-left: 20px;\" class=\"container-fields\">NumPy array<br><table class=\"data-info\"><tbody><tr><th style=\"text-align: left\">Data type</th><td style=\"text-align: left\">int32</td></tr><tr><th style=\"text-align: left\">Shape</th><td style=\"text-align: left\">(1,)</td></tr><tr><th style=\"text-align: left\">Array size</th><td style=\"text-align: left\">4.00 bytes</td></tr></tbody></table><br>[0]</div></details><div style=\"margin-left: 0px;\" class=\"container-fields\"><span class=\"field-key\" title=\".format\">format: </span><span class=\"field-value\">external</span></div><details><summary style=\"display: list-item; margin-left: 0px;\" class=\"container-fields field-key\" title=\".device\"><b>device</b></summary><div style=\"margin-left: 20px;\" class=\"container-fields\"><span class=\"field-key\" title=\".device.description\">description: </span><span class=\"field-value\">CCTV camera mounted on ceiling above arenas for behavioral recording</span></div><div style=\"margin-left: 20px;\" class=\"container-fields\"><span class=\"field-key\" title=\".device.meters_per_pixel\">meters_per_pixel: </span><span class=\"field-value\">0.0004</span></div><div style=\"margin-left: 20px;\" class=\"container-fields\"><span class=\"field-key\" title=\".device.camera_name\">camera_name: </span><span class=\"field-value\">BehavioralCamera</span></div><div style=\"margin-left: 20px;\" class=\"container-fields\"><span class=\"field-key\" title=\".device.model\">model: </span><span class=\"field-value\">C920</span></div><div style=\"margin-left: 20px;\" class=\"container-fields\"><span class=\"field-key\" title=\".device.lens\">lens: </span><span class=\"field-value\">Carl Zeiss lens with 20-step autofocus</span></div></details></div>"
      ],
      "text/plain": [
       "BehavioralVideoTestTrial pynwb.image.ImageSeries at 0x1917699108320\n",
       "Fields:\n",
       "  comments: no comments\n",
       "  conversion: 1.0\n",
       "  data: <HDF5 dataset \"data\": shape (0, 0, 0), type \"|u1\">\n",
       "  description: Video recording of the rat's behavior during the test trial. Recorded using a CCTV camera mounted on the ceiling above the arenas.\n",
       "\n",
       "  device: camera_device 0 abc.CameraDevice at 0x1917699107840\n",
       "Fields:\n",
       "  camera_name: BehavioralCamera\n",
       "  description: CCTV camera mounted on ceiling above arenas for behavioral recording\n",
       "  lens: Carl Zeiss lens with 20-step autofocus\n",
       "  meters_per_pixel: 0.0004\n",
       "  model: C920\n",
       "\n",
       "  external_file: <StrDataset for HDF5 dataset \"external_file\": shape (1,), type \"|O\">\n",
       "  format: external\n",
       "  interval: 1\n",
       "  offset: 0.0\n",
       "  resolution: -1.0\n",
       "  starting_frame: [0]\n",
       "  timestamps: <HDF5 dataset \"timestamps\": shape (4788,), type \"<f8\">\n",
       "  timestamps_unit: seconds\n",
       "  unit: Frames"
      ]
     },
     "execution_count": 12,
     "metadata": {},
     "output_type": "execute_result"
    }
   ],
   "source": [
    "test_trial_video = nwbfile.acquisition[\"BehavioralVideoTestTrial\"]\n",
    "test_trial_video"
   ]
  },
  {
   "cell_type": "markdown",
   "id": "e56d650e-9593-4468-96e3-40c3bf8f55ac",
   "metadata": {},
   "source": [
    "The video filepath:"
   ]
  },
  {
   "cell_type": "code",
   "execution_count": 13,
   "id": "a391d8b0-3004-4785-8a0a-c3faf78324d2",
   "metadata": {},
   "outputs": [
    {
     "data": {
      "text/plain": [
       "'D:\\\\Kind-CN-data-share\\\\behavioural_pipeline\\\\Object Recognition\\\\Arid1b\\\\Arid1b(3)_OR\\\\Test STM\\\\converted\\\\2022-11-07 10-10-30_408_test.mp4'"
      ]
     },
     "execution_count": 13,
     "metadata": {},
     "output_type": "execute_result"
    }
   ],
   "source": [
    "test_trial_video.external_file[0]"
   ]
  },
  {
   "cell_type": "markdown",
   "id": "99560f6f-54e0-4fc4-84e6-aec9d64a70fd",
   "metadata": {},
   "source": [
    "The metadata of the device used to record the behavioral video:\n"
   ]
  },
  {
   "cell_type": "code",
   "execution_count": 14,
   "id": "ee6c8828-7458-4dec-9e6b-1414c2e8a602",
   "metadata": {},
   "outputs": [
    {
     "data": {
      "text/html": [
       "\n",
       "        <style>\n",
       "            .container-fields {\n",
       "                font-family: \"Open Sans\", Arial, sans-serif;\n",
       "            }\n",
       "            .container-fields .field-value {\n",
       "                color: #00788E;\n",
       "            }\n",
       "            .container-fields details > summary {\n",
       "                cursor: pointer;\n",
       "                display: list-item;\n",
       "            }\n",
       "            .container-fields details > summary:hover {\n",
       "                color: #0A6EAA;\n",
       "            }\n",
       "        </style>\n",
       "        \n",
       "        <script>\n",
       "            function copyToClipboard(text) {\n",
       "                navigator.clipboard.writeText(text).then(function() {\n",
       "                    console.log('Copied to clipboard: ' + text);\n",
       "                }, function(err) {\n",
       "                    console.error('Could not copy text: ', err);\n",
       "                });\n",
       "            }\n",
       "\n",
       "            document.addEventListener('DOMContentLoaded', function() {\n",
       "                let fieldKeys = document.querySelectorAll('.container-fields .field-key');\n",
       "                fieldKeys.forEach(function(fieldKey) {\n",
       "                    fieldKey.addEventListener('click', function() {\n",
       "                        let accessCode = fieldKey.getAttribute('title').replace('Access code: ', '');\n",
       "                        copyToClipboard(accessCode);\n",
       "                    });\n",
       "                });\n",
       "            });\n",
       "        </script>\n",
       "        <div class='container-wrap'><div class='container-header'><div class='xr-obj-type'><h3>camera_device 0 (CameraDevice)</h3></div></div><div style=\"margin-left: 0px;\" class=\"container-fields\"><span class=\"field-key\" title=\".description\">description: </span><span class=\"field-value\">CCTV camera mounted on ceiling above arenas for behavioral recording</span></div><div style=\"margin-left: 0px;\" class=\"container-fields\"><span class=\"field-key\" title=\".meters_per_pixel\">meters_per_pixel: </span><span class=\"field-value\">0.0004</span></div><div style=\"margin-left: 0px;\" class=\"container-fields\"><span class=\"field-key\" title=\".camera_name\">camera_name: </span><span class=\"field-value\">BehavioralCamera</span></div><div style=\"margin-left: 0px;\" class=\"container-fields\"><span class=\"field-key\" title=\".model\">model: </span><span class=\"field-value\">C920</span></div><div style=\"margin-left: 0px;\" class=\"container-fields\"><span class=\"field-key\" title=\".lens\">lens: </span><span class=\"field-value\">Carl Zeiss lens with 20-step autofocus</span></div></div>"
      ],
      "text/plain": [
       "camera_device 0 abc.CameraDevice at 0x1917699107840\n",
       "Fields:\n",
       "  camera_name: BehavioralCamera\n",
       "  description: CCTV camera mounted on ceiling above arenas for behavioral recording\n",
       "  lens: Carl Zeiss lens with 20-step autofocus\n",
       "  meters_per_pixel: 0.0004\n",
       "  model: C920"
      ]
     },
     "execution_count": 14,
     "metadata": {},
     "output_type": "execute_result"
    }
   ],
   "source": [
    "test_trial_video.device"
   ]
  },
  {
   "cell_type": "markdown",
   "id": "a642e25b-e238-4134-ad88-0dc68b19fc98",
   "metadata": {},
   "source": [
    "# Access Annotated Behavioral Events <a name=\"access-events\"></a>\n",
    "\n",
    "The `nwbfile.processing[\"events]` contains annotated events. These are stored in the `AnnotatedEventsTable` type. The `AnnotatedEventsTable` type is a subtype of `DynamicTable`, where each row corresponds to a different event type. The table has a ragged (variable-length) 1D column of event times, such that each event type (row) is associated with an array of event times\n",
    "\n",
    "You can convert the table to a `pandas.DataFrame` for easier exploration:\n"
   ]
  },
  {
   "cell_type": "code",
   "execution_count": 16,
   "id": "090c67b0-f68b-4e24-ae8e-d9ad8911dec9",
   "metadata": {},
   "outputs": [],
   "source": [
    "sample_behavioral_events = nwbfile.processing[\"behavior\"][\"SampleTrialBehavioralEvents\"].to_dataframe()\n",
    "test_behavioral_events = nwbfile.processing[\"behavior\"][\"TestTrialBehavioralEvents\"].to_dataframe()"
   ]
  },
  {
   "cell_type": "code",
   "execution_count": 17,
   "id": "404ce15e",
   "metadata": {},
   "outputs": [
    {
     "data": {
      "text/html": [
       "<div>\n",
       "<style scoped>\n",
       "    .dataframe tbody tr th:only-of-type {\n",
       "        vertical-align: middle;\n",
       "    }\n",
       "\n",
       "    .dataframe tbody tr th {\n",
       "        vertical-align: top;\n",
       "    }\n",
       "\n",
       "    .dataframe thead th {\n",
       "        text-align: right;\n",
       "    }\n",
       "</style>\n",
       "<table border=\"1\" class=\"dataframe\">\n",
       "  <thead>\n",
       "    <tr style=\"text-align: right;\">\n",
       "      <th></th>\n",
       "      <th>duration</th>\n",
       "      <th>event_times</th>\n",
       "      <th>label</th>\n",
       "      <th>event_description</th>\n",
       "      <th>object_name</th>\n",
       "      <th>novelty</th>\n",
       "      <th>position</th>\n",
       "    </tr>\n",
       "    <tr>\n",
       "      <th>id</th>\n",
       "      <th></th>\n",
       "      <th></th>\n",
       "      <th></th>\n",
       "      <th></th>\n",
       "      <th></th>\n",
       "      <th></th>\n",
       "      <th></th>\n",
       "    </tr>\n",
       "  </thead>\n",
       "  <tbody>\n",
       "    <tr>\n",
       "      <th>0</th>\n",
       "      <td>[3.9979999999999993, 11.763000000000005, 6.798...</td>\n",
       "      <td>[13.382, 30.58, 51.862, 75.061, 86.661, 159.54...</td>\n",
       "      <td>object on left</td>\n",
       "      <td></td>\n",
       "      <td>pink JUICER</td>\n",
       "      <td>new</td>\n",
       "      <td>left</td>\n",
       "    </tr>\n",
       "    <tr>\n",
       "      <th>1</th>\n",
       "      <td>[5.2010000000000005, 5.200999999999997, 2.3999...</td>\n",
       "      <td>[8.02, 20.981, 43.061, 66.26, 109.061, 127.221...</td>\n",
       "      <td>object on right</td>\n",
       "      <td></td>\n",
       "      <td>pink JUICER</td>\n",
       "      <td>new</td>\n",
       "      <td>right</td>\n",
       "    </tr>\n",
       "  </tbody>\n",
       "</table>\n",
       "</div>"
      ],
      "text/plain": [
       "                                             duration  \\\n",
       "id                                                      \n",
       "0   [3.9979999999999993, 11.763000000000005, 6.798...   \n",
       "1   [5.2010000000000005, 5.200999999999997, 2.3999...   \n",
       "\n",
       "                                          event_times            label  \\\n",
       "id                                                                       \n",
       "0   [13.382, 30.58, 51.862, 75.061, 86.661, 159.54...   object on left   \n",
       "1   [8.02, 20.981, 43.061, 66.26, 109.061, 127.221...  object on right   \n",
       "\n",
       "   event_description  object_name novelty position  \n",
       "id                                                  \n",
       "0                     pink JUICER     new     left  \n",
       "1                     pink JUICER     new    right  "
      ]
     },
     "execution_count": 17,
     "metadata": {},
     "output_type": "execute_result"
    }
   ],
   "source": [
    "sample_behavioral_events"
   ]
  },
  {
   "cell_type": "code",
   "execution_count": 18,
   "id": "adf69d1a",
   "metadata": {},
   "outputs": [
    {
     "data": {
      "image/png": "[encoded data removed]",
      "text/plain": [
       "<Figure size 1200x200 with 1 Axes>"
      ]
     },
     "metadata": {},
     "output_type": "display_data"
    }
   ],
   "source": [
    "import numpy as np\n",
    "import matplotlib.pyplot as plt\n",
    "import matplotlib.patches as patches\n",
    "\n",
    "# Set up the figure\n",
    "plt.figure(figsize=(12, 2))\n",
    "\n",
    "# Define colors for different locations\n",
    "colors = [\"blue\", \"green\", \"purple\", \"red\"]\n",
    "\n",
    "# Plot sample events\n",
    "alpha = 0.6  # Alpha for duration rectangles\n",
    "\n",
    "plt.title('Object Recognition: Sample Trial Behavioral Events', fontsize=14)\n",
    "plt.xlabel('Time (seconds)', fontsize=12)\n",
    "plt.yticks([])  # Remove y-ticks since we're using the whole y-axis\n",
    "\n",
    "# Filter out the Start events\n",
    "object_events = sample_behavioral_events[sample_behavioral_events[\"object_name\"] != \"\"]\n",
    "\n",
    "# Plot object interaction events\n",
    "for idx, row in object_events.iterrows():\n",
    "    position = row[\"position\"]\n",
    "    novelty = row[\"novelty\"]\n",
    "    obejct_name = row[\"object_name\"]\n",
    "    color = colors[idx]\n",
    "\n",
    "    # Convert to numpy arrays if they are lists\n",
    "    event_times = np.array(row['event_times']) if len(row['event_times']) > 0 else np.array([])\n",
    "    durations = np.array(row['duration']) if len(row['duration']) > 0 else np.array([])\n",
    "\n",
    "    if len(event_times) > 0 and len(durations) > 0 and len(durations) == len(event_times):\n",
    "        for i, (time, duration) in enumerate(zip(event_times, durations)):\n",
    "            if not np.isnan(duration):\n",
    "                # Plot duration as rectangle that spans the whole y-axis\n",
    "                rect = patches.Rectangle(\n",
    "                    (time, 0),\n",
    "                    duration,\n",
    "                    1.0,\n",
    "                    alpha=alpha,\n",
    "                    color=color,\n",
    "                    edgecolor=None,\n",
    "                    label=f\"{novelty} object: {obejct_name} placed {position}\" if i == 0 else \"\",\n",
    "                )\n",
    "                plt.gca().add_patch(rect)\n",
    "\n",
    "# Set x-axis to show the full range of events\n",
    "all_times = np.concatenate([np.array(row['event_times']) for _, row in object_events.iterrows() if len(row['event_times']) > 0])\n",
    "if len(all_times) > 0:\n",
    "    plt.xlim(max(0, min(all_times) - 10), max(all_times) + 10)\n",
    "\n",
    "plt.ylim(0, 1)  # Set y-axis limits to match rectangle height\n",
    "plt.grid(True, alpha=0.3)\n",
    "plt.legend(loc='upper right')\n",
    "\n",
    "plt.tight_layout()\n",
    "plt.show()"
   ]
  },
  {
   "cell_type": "code",
   "execution_count": 19,
   "id": "416002c5",
   "metadata": {},
   "outputs": [
    {
     "data": {
      "text/html": [
       "<div>\n",
       "<style scoped>\n",
       "    .dataframe tbody tr th:only-of-type {\n",
       "        vertical-align: middle;\n",
       "    }\n",
       "\n",
       "    .dataframe tbody tr th {\n",
       "        vertical-align: top;\n",
       "    }\n",
       "\n",
       "    .dataframe thead th {\n",
       "        text-align: right;\n",
       "    }\n",
       "</style>\n",
       "<table border=\"1\" class=\"dataframe\">\n",
       "  <thead>\n",
       "    <tr style=\"text-align: right;\">\n",
       "      <th></th>\n",
       "      <th>duration</th>\n",
       "      <th>event_times</th>\n",
       "      <th>label</th>\n",
       "      <th>event_description</th>\n",
       "      <th>object_name</th>\n",
       "      <th>novelty</th>\n",
       "      <th>position</th>\n",
       "    </tr>\n",
       "    <tr>\n",
       "      <th>id</th>\n",
       "      <th></th>\n",
       "      <th></th>\n",
       "      <th></th>\n",
       "      <th></th>\n",
       "      <th></th>\n",
       "      <th></th>\n",
       "      <th></th>\n",
       "    </tr>\n",
       "  </thead>\n",
       "  <tbody>\n",
       "    <tr>\n",
       "      <th>0</th>\n",
       "      <td>[4.000999999999976, 2.0]</td>\n",
       "      <td>[1334.781, 1403.261]</td>\n",
       "      <td>object on left</td>\n",
       "      <td></td>\n",
       "      <td>pink JUICER</td>\n",
       "      <td>old</td>\n",
       "      <td>left</td>\n",
       "    </tr>\n",
       "    <tr>\n",
       "      <th>1</th>\n",
       "      <td>[1.5989999999999327, 2.800999999999931, 0.8010...</td>\n",
       "      <td>[1258.622, 1262.222, 1265.821, 1267.821, 1276....</td>\n",
       "      <td>object on right</td>\n",
       "      <td></td>\n",
       "      <td>pink heart light</td>\n",
       "      <td>new</td>\n",
       "      <td>right</td>\n",
       "    </tr>\n",
       "  </tbody>\n",
       "</table>\n",
       "</div>"
      ],
      "text/plain": [
       "                                             duration  \\\n",
       "id                                                      \n",
       "0                            [4.000999999999976, 2.0]   \n",
       "1   [1.5989999999999327, 2.800999999999931, 0.8010...   \n",
       "\n",
       "                                          event_times            label  \\\n",
       "id                                                                       \n",
       "0                                [1334.781, 1403.261]   object on left   \n",
       "1   [1258.622, 1262.222, 1265.821, 1267.821, 1276....  object on right   \n",
       "\n",
       "   event_description       object_name novelty position  \n",
       "id                                                       \n",
       "0                          pink JUICER     old     left  \n",
       "1                     pink heart light     new    right  "
      ]
     },
     "execution_count": 19,
     "metadata": {},
     "output_type": "execute_result"
    }
   ],
   "source": [
    "test_behavioral_events"
   ]
  },
  {
   "cell_type": "code",
   "execution_count": 20,
   "id": "c0a5debc",
   "metadata": {},
   "outputs": [
    {
     "data": {
      "image/png": "[encoded data removed]",
      "text/plain": [
       "<Figure size 1200x200 with 1 Axes>"
      ]
     },
     "metadata": {},
     "output_type": "display_data"
    }
   ],
   "source": [
    "import numpy as np\n",
    "import matplotlib.pyplot as plt\n",
    "import matplotlib.patches as patches\n",
    "\n",
    "# Set up the figure\n",
    "plt.figure(figsize=(12, 2))\n",
    "\n",
    "# Define colors for different locations\n",
    "colors = [\"blue\", \"green\", \"purple\", \"red\", \"yellow\"]\n",
    "\n",
    "# Plot sample events\n",
    "alpha = 0.6  # Alpha for duration rectangles\n",
    "\n",
    "plt.title(\"Object Recognition: Test Trial Behavioral Events\", fontsize=14)\n",
    "plt.xlabel(\"Time (seconds)\", fontsize=12)\n",
    "plt.yticks([])  # Remove y-ticks since we're using the whole y-axis\n",
    "\n",
    "# Filter out the Start events\n",
    "object_events = test_behavioral_events[test_behavioral_events[\"object_name\"] != \"\"]\n",
    "\n",
    "# Plot object interaction events\n",
    "for idx, row in object_events.iterrows():\n",
    "    position = row[\"position\"]\n",
    "    novelty = row[\"novelty\"]\n",
    "    obejct_name = row[\"object_name\"]\n",
    "    color = colors[idx]\n",
    "\n",
    "    # Convert to numpy arrays if they are lists\n",
    "    event_times = np.array(row[\"event_times\"]) if len(row[\"event_times\"]) > 0 else np.array([])\n",
    "    durations = np.array(row[\"duration\"]) if len(row[\"duration\"]) > 0 else np.array([])\n",
    "\n",
    "    if len(event_times) > 0 and len(durations) > 0 and len(durations) == len(event_times):\n",
    "        for i, (time, duration) in enumerate(zip(event_times, durations)):\n",
    "            if not np.isnan(duration):\n",
    "                # Plot duration as rectangle that spans the whole y-axis\n",
    "                rect = patches.Rectangle(\n",
    "                    (time, 0),\n",
    "                    duration,\n",
    "                    1.0,\n",
    "                    alpha=alpha,\n",
    "                    color=color,\n",
    "                    edgecolor=None,\n",
    "                    label=f\"{novelty} object: {obejct_name} placed {position}\" if i == 0 else \"\",\n",
    "                )\n",
    "                plt.gca().add_patch(rect)\n",
    "\n",
    "# Set x-axis to show the full range of events\n",
    "all_times = np.concatenate(\n",
    "    [np.array(row[\"event_times\"]) for _, row in object_events.iterrows() if len(row[\"event_times\"]) > 0]\n",
    ")\n",
    "if len(all_times) > 0:\n",
    "    plt.xlim(max(0, min(all_times) - 10), max(all_times) + 10)\n",
    "\n",
    "plt.ylim(0, 1)  # Set y-axis limits to match rectangle height\n",
    "plt.grid(True, alpha=0.3)\n",
    "plt.legend(loc=\"upper right\")\n",
    "\n",
    "plt.tight_layout()\n",
    "plt.show()"
   ]
  }
 ],
 "metadata": {
  "kernelspec": {
   "display_name": "kind_lab_to_nwb_env",
   "language": "python",
   "name": "python3"
  },
  "language_info": {
   "codemirror_mode": {
    "name": "ipython",
    "version": 3
   },
   "file_extension": ".py",
   "mimetype": "text/x-python",
   "name": "python",
   "nbconvert_exporter": "python",
   "pygments_lexer": "ipython3",
   "version": "3.12.8"
  }
 },
 "nbformat": 4,
 "nbformat_minor": 5
}
