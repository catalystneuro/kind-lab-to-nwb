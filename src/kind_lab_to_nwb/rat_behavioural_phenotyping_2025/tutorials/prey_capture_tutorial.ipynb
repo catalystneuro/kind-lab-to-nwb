{
 "cells": [
  {
   "cell_type": "markdown",
   "id": "3a52aed2-047a-4ac9-a3d1-8deb3740e16f",
   "metadata": {},
   "source": [
    "# Prey Capture in Autism-Related Rat Models: Behavioral Phenotyping of Arid1b, Grin2b, and Scn2a Strains\n",
    "\n",
    "This tutorial shows how to access the data related to [EMBER:000204](https://dandi.emberarchive.org/dandiset/000204) using pynwb.\n",
    "\n",
    "This dataset contains behavioral data from the prey capture experiment, part of the [Rat Behavioural Phenotyping Pipeline Methodologies](https://sidb.org.uk/facilities/rat-behavioural-phenotyping-pipeline/).\n",
    "\n",
    "\n",
    "**Contents:**\n",
    "- [Reading NWBFile locally](#read-nwb)\n",
    "- [Access Subject Metadata](#access-subject)\n",
    "- [Access Devices Metadata](#access-devices)\n",
    "- [Access Behavioral Videos](#access-behavior)\n",
    "- [Access USV and Detection Data](#access-usv)\n"
   ]
  },
  {
   "cell_type": "markdown",
   "id": "03b93e5d",
   "metadata": {},
   "source": [
    "# Select the subject and session to load"
   ]
  },
  {
   "cell_type": "code",
   "execution_count": 1,
   "id": "6953f1e4",
   "metadata": {},
   "outputs": [],
   "source": [
    "emberset_id = \"000204\"\n",
    "session_id = \"PC-TestD4\"\n",
    "subject_id = \"252-Arid1b(1)\""
   ]
  },
  {
   "cell_type": "markdown",
   "id": "02bba8f5",
   "metadata": {},
   "source": [
    "# Streaming an NWB file <a id=\"stream-nwb\"></a>\n",
    "\n",
    "This section demonstrates how to access the files on the [EMEBER Archive](https://dandi.emberarchive.org) without downloading them. Based on the [Streaming NWB files](https://pynwb.readthedocs.io/en/stable/tutorials/advanced_io/streaming.html) tutorial from [PyNWB](https://pynwb.readthedocs.io/en/stable/#).\n",
    "\n",
    "An [NWBFile](https://pynwb.readthedocs.io/en/stable/pynwb.file.html#pynwb.file.NWBFile) represents a single session of an experiment. Each NWBFile must have a `session description`, `identifier`, and `session start time`.\n",
    "\n",
    "The `dandi.dandiapi.DandiAPIClient` can be used to get the S3 URL of the NWB file stored in the DANDI Archive."
   ]
  },
  {
   "cell_type": "code",
   "execution_count": 2,
   "id": "9064ed70",
   "metadata": {},
   "outputs": [],
   "source": [
    "# Import necessary modules for accessing DANDI archive\n",
    "from dandi.dandiapi import DandiAPIClient, DandiInstance\n",
    "\n",
    "dandi_instance = DandiInstance(\n",
    "        \"ember\",\n",
    "        \"https://dandi.emberarchive.org\",\n",
    "        \"https://api-dandi.emberarchive.org/api\",\n",
    "    )\n",
    "# Create a search pattern to find the specific NWB file\n",
    "pattern = (f\"sub-{subject_id}/sub-{subject_id}_ses-{session_id}*.nwb\")\n",
    "\n",
    "# Initialize DANDI API client to access the archive\n",
    "with DandiAPIClient(dandi_instance=dandi_instance) as client:\n",
    "    # Authenticate with DANDI (required for embargoed datasets)\n",
    "    # This line can be removed once the dataset is publicly available\n",
    "    client.dandi_authenticate()\n",
    "\n",
    "    # Search for assets matching our pattern in the draft version of the dandiset\n",
    "    assets = client.get_dandiset(emberset_id, \"draft\").get_assets_by_glob(pattern=pattern, order=\"path\")\n",
    "\n",
    "    # Collect S3 URLs for all matching assets\n",
    "    s3_urls = []\n",
    "    for asset in assets:\n",
    "        # Get the direct S3 URL for streaming the file\n",
    "        s3_url = asset.get_content_url(follow_redirects=1, strip_query=False)\n",
    "        s3_urls.append(s3_url)\n",
    "\n",
    "    # Validate that we found exactly one matching file\n",
    "    if len(s3_urls) > 1:\n",
    "        raise ValueError(f\"More than one asset found for pattern {pattern}\")\n",
    "    elif len(s3_urls) == 0:\n",
    "        raise ValueError(f\"No asset found for pattern {pattern}\")\n",
    "    else:\n",
    "        # Use the single matching asset\n",
    "        s3_url = s3_urls[0]\n",
    "        # Get the final S3 URL for the asset\n",
    "        s3_url = asset.get_content_url(follow_redirects=1, strip_query=False)\n",
    "\n",
    "# Import modules for remote file access and NWB reading\n",
    "import h5py\n",
    "import remfile\n",
    "from pynwb import NWBHDF5IO\n",
    "\n",
    "# Create a remote file object that can stream data from S3\n",
    "file = remfile.File(s3_url)\n",
    "\n",
    "# Wrap the remote file in an HDF5 file object for reading\n",
    "h5_file = h5py.File(file, \"r\")\n",
    "\n",
    "# Create NWB IO object for reading the streamed file\n",
    "io = NWBHDF5IO(file=h5_file, load_namespaces=True)\n",
    "\n",
    "# Read the NWB file into memory for analysis\n",
    "nwbfile = io.read()"
   ]
  },
  {
   "cell_type": "markdown",
   "id": "156156f4-9898-4811-afd2-e6fb5afdb0c8",
   "metadata": {},
   "source": [
    "# Reading an NWB file locally <a id=\"read-nwb\"></a>\n",
    "\n",
    "This section demonstrates how to read an NWB file using `pynwb`.\n",
    "\n",
    "Based on the [NWB File Basics](https://pynwb.readthedocs.io/en/stable/tutorials/general/plot_file.html#sphx-glr-tutorials-general-plot-file-py) tutorial from [PyNWB](https://pynwb.readthedocs.io/en/stable/#).\n",
    "\n",
    "An [NWBFile](https://pynwb.readthedocs.io/en/stable/pynwb.file.html#pynwb.file.NWBFile) represents a single session of an experiment. Each NWBFile must have a `session description`, `identifier`, and `session start time`.\n",
    "\n",
    "Reading is carried out using the [NWBHDF5IO](https://pynwb.readthedocs.io/en/stable/pynwb.html#pynwb.NWBHDF5IO) class. To read the NWB file use the read mode (\"r\") to retrieve an NWBFile object."
   ]
  },
  {
   "cell_type": "code",
   "execution_count": null,
   "id": "914aaa55-3e20-4354-a24f-ef7a1f1a5f88",
   "metadata": {},
   "outputs": [],
   "source": [
    "from pynwb import NWBHDF5IO\n",
    "from pathlib import Path\n",
    "\n",
    "# Define the path to the NWB file\n",
    "directory = Path(\"D:/kind_lab_conversion_nwb/prey_capture\")\n",
    "nwbfile_path = directory / f\"sub-{subject_id}_ses-{session_id}.nwb\"\n",
    "io = NWBHDF5IO(path=nwbfile_path, load_namespaces=True)\n",
    "nwbfile = io.read()"
   ]
  },
  {
   "cell_type": "code",
   "execution_count": 3,
   "id": "c6c9defb-3d4d-4f32-94f6-a8cb2439bab5",
   "metadata": {},
   "outputs": [
    {
     "name": "stdout",
     "output_type": "stream",
     "text": [
      "This experiment is part of the Rat Behavioural Phenotyping Pipeline Methodologies https://sidb.org.uk/facilities/rat-behavioural-phenotyping-pipeline/.\n",
      "As an initial effort to characterize the rat lines, these models are being behaviorally phenotyped at SIDB.\n",
      "Rat models are phenotyped according to a rigorous pipeline that assesses behaviours relevant to autism with intellectual disability, such as social and motor skills, and learning and sensory processing.\n",
      "Different cohorts of rats are run through different subsets of tasks to overcome potential order effects on behaviours and to limit the number of tasks each animal is put through.\n",
      "This experiment investigated prey capture behavior in different rat models\n",
      "(Arid1b: https://rgd.mcw.edu/rgdweb/report/strain/main.html?id=14394518,\n",
      "Grin2b: https://rgd.mcw.edu/rgdweb/report/strain/main.html?id=14394515,\n",
      "Scn2a: https://rgd.mcw.edu/rgdweb/report/strain/main.html?id=25394530) using live crickets.\n",
      "The experimenter, not present in the same room as the rat during any of the trials, watched the trials on a screen from an anti-room. Experimenters were blind to genotype during all experiments and scoring of video trials.\n",
      "The task utilized a large square arena (100x100 cm) with white walls and wood-lined floor.\n",
      "Rats underwent habituation (5 days), including exposure to dead crickets, followed by\n",
      "live cricket hunting trials over 5 days (4 trials per day, 2 min max duration).\n",
      "Silent brown crickets (25-30 mm; bought fresh for each experiment from LiveFoodsDirect UK) were maintained in large plastic boxes with access to hydration gel (ProRep bug gel, LiveFoods Direct, UK) and fresh food (e.g. carrot, potatoes, bran flakes, cat biscuits) and only healthy crickets (no signs of disease, all appendages present) were used in the experiments. Crickets were placed in a smaller container and placed on a heat mat for at least 10 min prior to use, to encourage fleeing. Ins t holding tongs (Bug tongs, Forest School Shop UK) were used to manipulate crickets.\n",
      "Performance was recorded via overhead camera and ultrasonic vocalizations were recorded.\n",
      "Measures included latency to intercept, catch, and eat crickets, as well as movement tracking.\n",
      "\n"
     ]
    }
   ],
   "source": [
    "print(nwbfile.experiment_description)"
   ]
  },
  {
   "cell_type": "code",
   "execution_count": 4,
   "id": "69402699-7685-452a-acf3-ed445a0fd9c7",
   "metadata": {},
   "outputs": [
    {
     "name": "stdout",
     "output_type": "stream",
     "text": [
      "Week 2 Experimental Day 4. Live cricket hunting.\n",
      "4-5 trials per day, 2 min max duration per trial.\n",
      "Rat in starting cylinder 15s, live cricket placed in opposite corner.\n",
      "The rat was given 2 min to catch the cricket.\n",
      "The rat was removed from the arena when the cricket was eaten or if the 2 min trial duration elapsed\n",
      "(whichever happens first). Crickets were not reused.\n",
      "The arena was cleared of all debris and wiped with water between trials.\n",
      "Rats were held in the holding bucket between trials, the intertrial interval was approx. 1-2 min.\n",
      "Ultrasonic vocalizations recorded.\n",
      "\n"
     ]
    }
   ],
   "source": [
    "print(nwbfile.session_description)"
   ]
  },
  {
   "cell_type": "markdown",
   "id": "ca98f1a1-99aa-4470-b146-2a2bad8ee121",
   "metadata": {},
   "source": [
    "Importantly, the `session start time` is the reference time for all timestamps in the file. For instance, an event with a timestamp of 0 in the file means the event occurred exactly at the session start time.\n",
    "\n",
    "The `session_start_time` is extracted from the filename of the video during conversion."
   ]
  },
  {
   "cell_type": "code",
   "execution_count": 5,
   "id": "60d1345a-0d8b-40c6-af41-fcb0f74e935e",
   "metadata": {},
   "outputs": [
    {
     "name": "stdout",
     "output_type": "stream",
     "text": [
      "2022-08-11 10:39:11+01:00\n"
     ]
    }
   ],
   "source": [
    "print(nwbfile.session_start_time)"
   ]
  },
  {
   "cell_type": "markdown",
   "id": "b75accdd",
   "metadata": {},
   "source": [
    "# Access Subject Metadata <a name=\"access-subject\"></a>\n",
    "\n",
    "This section demonstrates how to access the [Subject](https://pynwb.readthedocs.io/en/stable/pynwb.file.html#pynwb.file.Subject) field in an NWB file.\n",
    "\n",
    "The [Subject](https://pynwb.readthedocs.io/en/stable/pynwb.file.html#pynwb.file.Subject) field can be accessed as `nwbfile.subject`.\n"
   ]
  },
  {
   "cell_type": "code",
   "execution_count": 6,
   "id": "3ea1ac13-9daf-4add-af37-617c02d6d8b6",
   "metadata": {},
   "outputs": [
    {
     "data": {
      "text/html": [
       "\n",
       "        <style>\n",
       "            .container-fields {\n",
       "                font-family: \"Open Sans\", Arial, sans-serif;\n",
       "            }\n",
       "            .container-fields .field-value {\n",
       "                color: #00788E;\n",
       "            }\n",
       "            .container-fields details > summary {\n",
       "                cursor: pointer;\n",
       "                display: list-item;\n",
       "            }\n",
       "            .container-fields details > summary:hover {\n",
       "                color: #0A6EAA;\n",
       "            }\n",
       "        </style>\n",
       "        \n",
       "        <script>\n",
       "            function copyToClipboard(text) {\n",
       "                navigator.clipboard.writeText(text).then(function() {\n",
       "                    console.log('Copied to clipboard: ' + text);\n",
       "                }, function(err) {\n",
       "                    console.error('Could not copy text: ', err);\n",
       "                });\n",
       "            }\n",
       "\n",
       "            document.addEventListener('DOMContentLoaded', function() {\n",
       "                let fieldKeys = document.querySelectorAll('.container-fields .field-key');\n",
       "                fieldKeys.forEach(function(fieldKey) {\n",
       "                    fieldKey.addEventListener('click', function() {\n",
       "                        let accessCode = fieldKey.getAttribute('title').replace('Access code: ', '');\n",
       "                        copyToClipboard(accessCode);\n",
       "                    });\n",
       "                });\n",
       "            });\n",
       "        </script>\n",
       "        <div class='container-wrap'><div class='container-header'><div class='xr-obj-type'><h3>subject (Subject)</h3></div></div><div style=\"margin-left: 0px;\" class=\"container-fields\"><span class=\"field-key\" title=\".age__reference\">age__reference: </span><span class=\"field-value\">birth</span></div><div style=\"margin-left: 0px;\" class=\"container-fields\"><span class=\"field-key\" title=\".description\">description: </span><span class=\"field-value\">Subject housed in standard housing conditions. Cage identifier: 1.0.</span></div><div style=\"margin-left: 0px;\" class=\"container-fields\"><span class=\"field-key\" title=\".genotype\">genotype: </span><span class=\"field-value\">HET</span></div><div style=\"margin-left: 0px;\" class=\"container-fields\"><span class=\"field-key\" title=\".sex\">sex: </span><span class=\"field-value\">M</span></div><div style=\"margin-left: 0px;\" class=\"container-fields\"><span class=\"field-key\" title=\".species\">species: </span><span class=\"field-value\">Rattus norvegicus</span></div><div style=\"margin-left: 0px;\" class=\"container-fields\"><span class=\"field-key\" title=\".subject_id\">subject_id: </span><span class=\"field-value\">252-Arid1b(1)</span></div><details><summary style=\"display: list-item; margin-left: 0px;\" class=\"container-fields field-key\" title=\".date_of_birth\"><b>date_of_birth</b></summary><span class=\"field-key\">2022-04-13 00:00:00+02:00</span></details><div style=\"margin-left: 0px;\" class=\"container-fields\"><span class=\"field-key\" title=\".strain\">strain: </span><span class=\"field-value\">Arid1b</span></div></div>"
      ],
      "text/plain": [
       "subject pynwb.file.Subject at 0x2548046134016\n",
       "Fields:\n",
       "  age__reference: birth\n",
       "  date_of_birth: 2022-04-13 00:00:00+02:00\n",
       "  description: Subject housed in standard housing conditions. Cage identifier: 1.0.\n",
       "  genotype: HET\n",
       "  sex: M\n",
       "  species: Rattus norvegicus\n",
       "  strain: Arid1b\n",
       "  subject_id: 252-Arid1b(1)"
      ]
     },
     "execution_count": 6,
     "metadata": {},
     "output_type": "execute_result"
    }
   ],
   "source": [
    "nwbfile.subject"
   ]
  },
  {
   "cell_type": "markdown",
   "id": "babc0166",
   "metadata": {},
   "source": [
    "# Access Devices Metadata <a name=\"access-devices\"></a>\n",
    "\n",
    "This section demonstrates how to access the [Device](https://pynwb.readthedocs.io/en/stable/pynwb.device.html#module-pynwb.device) field in an NWB file.\n",
    "\n",
    "The [Device](https://pynwb.readthedocs.io/en/stable/pynwb.device.html#module-pynwb.device) field can be accessed as `nwbfile.devices`."
   ]
  },
  {
   "cell_type": "code",
   "execution_count": 7,
   "id": "0ccbeb28",
   "metadata": {},
   "outputs": [
    {
     "data": {
      "text/html": [
       "\n",
       "        <style>\n",
       "            .container-fields {\n",
       "                font-family: \"Open Sans\", Arial, sans-serif;\n",
       "            }\n",
       "            .container-fields .field-value {\n",
       "                color: #00788E;\n",
       "            }\n",
       "            .container-fields details > summary {\n",
       "                cursor: pointer;\n",
       "                display: list-item;\n",
       "            }\n",
       "            .container-fields details > summary:hover {\n",
       "                color: #0A6EAA;\n",
       "            }\n",
       "        </style>\n",
       "        \n",
       "        <script>\n",
       "            function copyToClipboard(text) {\n",
       "                navigator.clipboard.writeText(text).then(function() {\n",
       "                    console.log('Copied to clipboard: ' + text);\n",
       "                }, function(err) {\n",
       "                    console.error('Could not copy text: ', err);\n",
       "                });\n",
       "            }\n",
       "\n",
       "            document.addEventListener('DOMContentLoaded', function() {\n",
       "                let fieldKeys = document.querySelectorAll('.container-fields .field-key');\n",
       "                fieldKeys.forEach(function(fieldKey) {\n",
       "                    fieldKey.addEventListener('click', function() {\n",
       "                        let accessCode = fieldKey.getAttribute('title').replace('Access code: ', '');\n",
       "                        copyToClipboard(accessCode);\n",
       "                    });\n",
       "                });\n",
       "            });\n",
       "        </script>\n",
       "        <div class='container-wrap'><div class='container-header'><div class='xr-obj-type'><h3>Arena (Device)</h3></div></div><div style=\"margin-left: 0px;\" class=\"container-fields\"><span class=\"field-key\" title=\".description\">description: </span><span class=\"field-value\">Square arena (100x100 cm) with 50cm high white walls and wood-lined floor</span></div><div style=\"margin-left: 0px;\" class=\"container-fields\"><span class=\"field-key\" title=\".manufacturer\">manufacturer: </span><span class=\"field-value\">Example Manufacturer</span></div></div>"
      ],
      "text/plain": [
       "Arena pynwb.device.Device at 0x2548054340240\n",
       "Fields:\n",
       "  description: Square arena (100x100 cm) with 50cm high white walls and wood-lined floor\n",
       "  manufacturer: Example Manufacturer"
      ]
     },
     "execution_count": 7,
     "metadata": {},
     "output_type": "execute_result"
    }
   ],
   "source": [
    "nwbfile.devices[\"Arena\"]"
   ]
  },
  {
   "cell_type": "code",
   "execution_count": 9,
   "id": "01c3f48b",
   "metadata": {},
   "outputs": [
    {
     "data": {
      "text/html": [
       "\n",
       "        <style>\n",
       "            .container-fields {\n",
       "                font-family: \"Open Sans\", Arial, sans-serif;\n",
       "            }\n",
       "            .container-fields .field-value {\n",
       "                color: #00788E;\n",
       "            }\n",
       "            .container-fields details > summary {\n",
       "                cursor: pointer;\n",
       "                display: list-item;\n",
       "            }\n",
       "            .container-fields details > summary:hover {\n",
       "                color: #0A6EAA;\n",
       "            }\n",
       "        </style>\n",
       "        \n",
       "        <script>\n",
       "            function copyToClipboard(text) {\n",
       "                navigator.clipboard.writeText(text).then(function() {\n",
       "                    console.log('Copied to clipboard: ' + text);\n",
       "                }, function(err) {\n",
       "                    console.error('Could not copy text: ', err);\n",
       "                });\n",
       "            }\n",
       "\n",
       "            document.addEventListener('DOMContentLoaded', function() {\n",
       "                let fieldKeys = document.querySelectorAll('.container-fields .field-key');\n",
       "                fieldKeys.forEach(function(fieldKey) {\n",
       "                    fieldKey.addEventListener('click', function() {\n",
       "                        let accessCode = fieldKey.getAttribute('title').replace('Access code: ', '');\n",
       "                        copyToClipboard(accessCode);\n",
       "                    });\n",
       "                });\n",
       "            });\n",
       "        </script>\n",
       "        <div class='container-wrap'><div class='container-header'><div class='xr-obj-type'><h3>camera_device 0 (CameraDevice)</h3></div></div><div style=\"margin-left: 0px;\" class=\"container-fields\"><span class=\"field-key\" title=\".description\">description: </span><span class=\"field-value\">CCTV camera mounted on ceiling above arenas for behavioral recording</span></div><div style=\"margin-left: 0px;\" class=\"container-fields\"><span class=\"field-key\" title=\".meters_per_pixel\">meters_per_pixel: </span><span class=\"field-value\">0.0004</span></div><div style=\"margin-left: 0px;\" class=\"container-fields\"><span class=\"field-key\" title=\".camera_name\">camera_name: </span><span class=\"field-value\">BehavioralCamera</span></div><div style=\"margin-left: 0px;\" class=\"container-fields\"><span class=\"field-key\" title=\".model\">model: </span><span class=\"field-value\">C920</span></div><div style=\"margin-left: 0px;\" class=\"container-fields\"><span class=\"field-key\" title=\".lens\">lens: </span><span class=\"field-value\">Carl Zeiss lens with 20-step autofocus</span></div></div>"
      ],
      "text/plain": [
       "camera_device 0 abc.CameraDevice at 0x2548054333040\n",
       "Fields:\n",
       "  camera_name: BehavioralCamera\n",
       "  description: CCTV camera mounted on ceiling above arenas for behavioral recording\n",
       "  lens: Carl Zeiss lens with 20-step autofocus\n",
       "  meters_per_pixel: 0.0004\n",
       "  model: C920"
      ]
     },
     "execution_count": 9,
     "metadata": {},
     "output_type": "execute_result"
    }
   ],
   "source": [
    "nwbfile.devices[\"camera_device 0\"]"
   ]
  },
  {
   "cell_type": "code",
   "execution_count": 10,
   "id": "8a53a923",
   "metadata": {},
   "outputs": [
    {
     "data": {
      "text/html": [
       "\n",
       "        <style>\n",
       "            .container-fields {\n",
       "                font-family: \"Open Sans\", Arial, sans-serif;\n",
       "            }\n",
       "            .container-fields .field-value {\n",
       "                color: #00788E;\n",
       "            }\n",
       "            .container-fields details > summary {\n",
       "                cursor: pointer;\n",
       "                display: list-item;\n",
       "            }\n",
       "            .container-fields details > summary:hover {\n",
       "                color: #0A6EAA;\n",
       "            }\n",
       "        </style>\n",
       "        \n",
       "        <script>\n",
       "            function copyToClipboard(text) {\n",
       "                navigator.clipboard.writeText(text).then(function() {\n",
       "                    console.log('Copied to clipboard: ' + text);\n",
       "                }, function(err) {\n",
       "                    console.error('Could not copy text: ', err);\n",
       "                });\n",
       "            }\n",
       "\n",
       "            document.addEventListener('DOMContentLoaded', function() {\n",
       "                let fieldKeys = document.querySelectorAll('.container-fields .field-key');\n",
       "                fieldKeys.forEach(function(fieldKey) {\n",
       "                    fieldKey.addEventListener('click', function() {\n",
       "                        let accessCode = fieldKey.getAttribute('title').replace('Access code: ', '');\n",
       "                        copyToClipboard(accessCode);\n",
       "                    });\n",
       "                });\n",
       "            });\n",
       "        </script>\n",
       "        <div class='container-wrap'><div class='container-header'><div class='xr-obj-type'><h3>USVMicrophone (Device)</h3></div></div><div style=\"margin-left: 0px;\" class=\"container-fields\"><span class=\"field-key\" title=\".description\">description: </span><span class=\"field-value\">M500 USB Pettersson microphone for recording ultrasonic vocalizations, hanging approx. 1m above the arena.</span></div><div style=\"margin-left: 0px;\" class=\"container-fields\"><span class=\"field-key\" title=\".manufacturer\">manufacturer: </span><span class=\"field-value\">Pettersson, Wildlife Services UK</span></div></div>"
      ],
      "text/plain": [
       "USVMicrophone pynwb.device.Device at 0x2548054340000\n",
       "Fields:\n",
       "  description: M500 USB Pettersson microphone for recording ultrasonic vocalizations, hanging approx. 1m above the arena.\n",
       "  manufacturer: Pettersson, Wildlife Services UK"
      ]
     },
     "execution_count": 10,
     "metadata": {},
     "output_type": "execute_result"
    }
   ],
   "source": [
    "nwbfile.devices[\"USVMicrophone\"]"
   ]
  },
  {
   "cell_type": "markdown",
   "id": "ff6792ed-7965-4a2a-9966-648c16263472",
   "metadata": {},
   "source": [
    "# Access Behavioral Video <a name=\"access-behavior\"></a>\n",
    "\n",
    "The behavioral videos are stored as an external `ImageSeries` in the NWB file. The number and naming of videos depend on the session type (e.g., \"Hab\" or habituation sessions have one video, \"Test\" sessions have 4-5 videos)."
   ]
  },
  {
   "cell_type": "code",
   "execution_count": 11,
   "id": "503e6e42-2359-414c-b9cf-8e2db6b934e4",
   "metadata": {},
   "outputs": [
    {
     "name": "stdout",
     "output_type": "stream",
     "text": [
      "BehavioralVideoTestTrial1\n",
      "BehavioralVideoTestTrial2\n",
      "BehavioralVideoTestTrial3\n",
      "BehavioralVideoTestTrial4\n"
     ]
    }
   ],
   "source": [
    "# List all behavioral video acquisitions\n",
    "for name in nwbfile.acquisition:\n",
    "    if \"BehavioralVideo\" in name:\n",
    "        print(name)"
   ]
  },
  {
   "cell_type": "code",
   "execution_count": 12,
   "id": "8ba89f3c-516e-430f-b10a-a0693702d763",
   "metadata": {},
   "outputs": [
    {
     "data": {
      "text/html": [
       "\n",
       "        <style>\n",
       "            .container-fields {\n",
       "                font-family: \"Open Sans\", Arial, sans-serif;\n",
       "            }\n",
       "            .container-fields .field-value {\n",
       "                color: #00788E;\n",
       "            }\n",
       "            .container-fields details > summary {\n",
       "                cursor: pointer;\n",
       "                display: list-item;\n",
       "            }\n",
       "            .container-fields details > summary:hover {\n",
       "                color: #0A6EAA;\n",
       "            }\n",
       "        </style>\n",
       "        \n",
       "        <script>\n",
       "            function copyToClipboard(text) {\n",
       "                navigator.clipboard.writeText(text).then(function() {\n",
       "                    console.log('Copied to clipboard: ' + text);\n",
       "                }, function(err) {\n",
       "                    console.error('Could not copy text: ', err);\n",
       "                });\n",
       "            }\n",
       "\n",
       "            document.addEventListener('DOMContentLoaded', function() {\n",
       "                let fieldKeys = document.querySelectorAll('.container-fields .field-key');\n",
       "                fieldKeys.forEach(function(fieldKey) {\n",
       "                    fieldKey.addEventListener('click', function() {\n",
       "                        let accessCode = fieldKey.getAttribute('title').replace('Access code: ', '');\n",
       "                        copyToClipboard(accessCode);\n",
       "                    });\n",
       "                });\n",
       "            });\n",
       "        </script>\n",
       "        <div class='container-wrap'><div class='container-header'><div class='xr-obj-type'><h3>BehavioralVideoTestTrial1 (ImageSeries)</h3></div></div><div style=\"margin-left: 0px;\" class=\"container-fields\"><span class=\"field-key\" title=\".resolution\">resolution: </span><span class=\"field-value\">-1.0</span></div><div style=\"margin-left: 0px;\" class=\"container-fields\"><span class=\"field-key\" title=\".comments\">comments: </span><span class=\"field-value\">no comments</span></div><div style=\"margin-left: 0px;\" class=\"container-fields\"><span class=\"field-key\" title=\".description\">description: </span><span class=\"field-value\">Video recording of the rat's behavior. Recorded using a CCTV camera mounted on the ceiling above the chambers.\n",
       "</span></div><div style=\"margin-left: 0px;\" class=\"container-fields\"><span class=\"field-key\" title=\".conversion\">conversion: </span><span class=\"field-value\">1.0</span></div><div style=\"margin-left: 0px;\" class=\"container-fields\"><span class=\"field-key\" title=\".offset\">offset: </span><span class=\"field-value\">0.0</span></div><div style=\"margin-left: 0px;\" class=\"container-fields\"><span class=\"field-key\" title=\".unit\">unit: </span><span class=\"field-value\">Frames</span></div><details><summary style=\"display: list-item; margin-left: 0px;\" class=\"container-fields field-key\" title=\".data\"><b>data</b></summary><div style=\"margin-left: 20px;\" class=\"container-fields\">HDF5 dataset<br><table class=\"data-info\"><tbody><tr><th style=\"text-align: left\">Data type</th><td style=\"text-align: left\">uint8</td></tr><tr><th style=\"text-align: left\">Shape</th><td style=\"text-align: left\">(0, 0, 0)</td></tr><tr><th style=\"text-align: left\">Array size</th><td style=\"text-align: left\">0.00 bytes</td></tr><tr><th style=\"text-align: left\">Chunk shape</th><td style=\"text-align: left\">None</td></tr><tr><th style=\"text-align: left\">Compression</th><td style=\"text-align: left\">None</td></tr><tr><th style=\"text-align: left\">Compression opts</th><td style=\"text-align: left\">None</td></tr><tr><th style=\"text-align: left\">Compression ratio</th><td style=\"text-align: left\">undefined</td></tr></tbody></table><br>[]</div></details><details><summary style=\"display: list-item; margin-left: 0px;\" class=\"container-fields field-key\" title=\".timestamps\"><b>timestamps</b></summary><div style=\"margin-left: 20px;\" class=\"container-fields\">HDF5 dataset<br><table class=\"data-info\"><tbody><tr><th style=\"text-align: left\">Data type</th><td style=\"text-align: left\">float64</td></tr><tr><th style=\"text-align: left\">Shape</th><td style=\"text-align: left\">(2660,)</td></tr><tr><th style=\"text-align: left\">Array size</th><td style=\"text-align: left\">20.78 KiB</td></tr><tr><th style=\"text-align: left\">Chunk shape</th><td style=\"text-align: left\">(2660,)</td></tr><tr><th style=\"text-align: left\">Compression</th><td style=\"text-align: left\">gzip</td></tr><tr><th style=\"text-align: left\">Compression opts</th><td style=\"text-align: left\">4</td></tr><tr><th style=\"text-align: left\">Compression ratio</th><td style=\"text-align: left\">3.464105485918932</td></tr></tbody></table></div></details><div style=\"margin-left: 0px;\" class=\"container-fields\"><span class=\"field-key\" title=\".timestamps_unit\">timestamps_unit: </span><span class=\"field-value\">seconds</span></div><div style=\"margin-left: 0px;\" class=\"container-fields\"><span class=\"field-key\" title=\".interval\">interval: </span><span class=\"field-value\">1</span></div><details><summary style=\"display: list-item; margin-left: 0px;\" class=\"container-fields field-key\" title=\".external_file\"><b>external_file</b></summary><div style=\"margin-left: 20px;\" class=\"container-fields\">HDF5 dataset<br><table class=\"data-info\"><tbody><tr><th style=\"text-align: left\">Data type</th><td style=\"text-align: left\">object</td></tr><tr><th style=\"text-align: left\">Shape</th><td style=\"text-align: left\">(1,)</td></tr><tr><th style=\"text-align: left\">Array size</th><td style=\"text-align: left\">8.00 bytes</td></tr><tr><th style=\"text-align: left\">Chunk shape</th><td style=\"text-align: left\">None</td></tr><tr><th style=\"text-align: left\">Compression</th><td style=\"text-align: left\">None</td></tr><tr><th style=\"text-align: left\">Compression opts</th><td style=\"text-align: left\">None</td></tr><tr><th style=\"text-align: left\">Compression ratio</th><td style=\"text-align: left\">0.5</td></tr></tbody></table><br>[b'sub-252-Arid1b(1)_ses-PC-TestD4_image\\\\c4bee8bd-c7b5-48f8-8cb0-67644daf6caa_external_file_0.mp4']</div></details><details><summary style=\"display: list-item; margin-left: 0px;\" class=\"container-fields field-key\" title=\".starting_frame\"><b>starting_frame</b></summary><div style=\"margin-left: 20px;\" class=\"container-fields\">NumPy array<br><table class=\"data-info\"><tbody><tr><th style=\"text-align: left\">Data type</th><td style=\"text-align: left\">int32</td></tr><tr><th style=\"text-align: left\">Shape</th><td style=\"text-align: left\">(1,)</td></tr><tr><th style=\"text-align: left\">Array size</th><td style=\"text-align: left\">4.00 bytes</td></tr></tbody></table><br>[0]</div></details><div style=\"margin-left: 0px;\" class=\"container-fields\"><span class=\"field-key\" title=\".format\">format: </span><span class=\"field-value\">external</span></div><details><summary style=\"display: list-item; margin-left: 0px;\" class=\"container-fields field-key\" title=\".device\"><b>device</b></summary><div style=\"margin-left: 20px;\" class=\"container-fields\"><span class=\"field-key\" title=\".device.description\">description: </span><span class=\"field-value\">CCTV camera mounted on ceiling above arenas for behavioral recording</span></div><div style=\"margin-left: 20px;\" class=\"container-fields\"><span class=\"field-key\" title=\".device.meters_per_pixel\">meters_per_pixel: </span><span class=\"field-value\">0.0004</span></div><div style=\"margin-left: 20px;\" class=\"container-fields\"><span class=\"field-key\" title=\".device.camera_name\">camera_name: </span><span class=\"field-value\">BehavioralCamera</span></div><div style=\"margin-left: 20px;\" class=\"container-fields\"><span class=\"field-key\" title=\".device.model\">model: </span><span class=\"field-value\">C920</span></div><div style=\"margin-left: 20px;\" class=\"container-fields\"><span class=\"field-key\" title=\".device.lens\">lens: </span><span class=\"field-value\">Carl Zeiss lens with 20-step autofocus</span></div></details></div>"
      ],
      "text/plain": [
       "BehavioralVideoTestTrial1 pynwb.image.ImageSeries at 0x2548054331312\n",
       "Fields:\n",
       "  comments: no comments\n",
       "  conversion: 1.0\n",
       "  data: <HDF5 dataset \"data\": shape (0, 0, 0), type \"|u1\">\n",
       "  description: Video recording of the rat's behavior. Recorded using a CCTV camera mounted on the ceiling above the chambers.\n",
       "\n",
       "  device: camera_device 0 abc.CameraDevice at 0x2548054333040\n",
       "Fields:\n",
       "  camera_name: BehavioralCamera\n",
       "  description: CCTV camera mounted on ceiling above arenas for behavioral recording\n",
       "  lens: Carl Zeiss lens with 20-step autofocus\n",
       "  meters_per_pixel: 0.0004\n",
       "  model: C920\n",
       "\n",
       "  external_file: <StrDataset for HDF5 dataset \"external_file\": shape (1,), type \"|O\">\n",
       "  format: external\n",
       "  interval: 1\n",
       "  offset: 0.0\n",
       "  resolution: -1.0\n",
       "  starting_frame: [0]\n",
       "  timestamps: <HDF5 dataset \"timestamps\": shape (2660,), type \"<f8\">\n",
       "  timestamps_unit: seconds\n",
       "  unit: Frames"
      ]
     },
     "execution_count": 12,
     "metadata": {},
     "output_type": "execute_result"
    }
   ],
   "source": [
    "video = nwbfile.acquisition[\"BehavioralVideoTestTrial1\"]\n",
    "video"
   ]
  },
  {
   "cell_type": "markdown",
   "id": "c52eb9ec-46ac-41fe-aab9-e705b8aaccbf",
   "metadata": {},
   "source": [
    "The video filepath:"
   ]
  },
  {
   "cell_type": "code",
   "execution_count": 13,
   "id": "091a0f5e-95ec-4e4f-8d66-56b4065d24ff",
   "metadata": {},
   "outputs": [
    {
     "data": {
      "text/plain": [
       "'sub-252-Arid1b(1)_ses-PC-TestD4_image\\\\c4bee8bd-c7b5-48f8-8cb0-67644daf6caa_external_file_0.mp4'"
      ]
     },
     "execution_count": 13,
     "metadata": {},
     "output_type": "execute_result"
    }
   ],
   "source": [
    "video.external_file[0]"
   ]
  },
  {
   "cell_type": "markdown",
   "id": "ff11cdf9-3a3f-477d-b0a7-adf301cd4f52",
   "metadata": {},
   "source": [
    "The metadata of the device used to record the behavioral video:"
   ]
  },
  {
   "cell_type": "code",
   "execution_count": 14,
   "id": "64758b91-578f-480b-90f6-251b80230358",
   "metadata": {},
   "outputs": [
    {
     "data": {
      "text/html": [
       "\n",
       "        <style>\n",
       "            .container-fields {\n",
       "                font-family: \"Open Sans\", Arial, sans-serif;\n",
       "            }\n",
       "            .container-fields .field-value {\n",
       "                color: #00788E;\n",
       "            }\n",
       "            .container-fields details > summary {\n",
       "                cursor: pointer;\n",
       "                display: list-item;\n",
       "            }\n",
       "            .container-fields details > summary:hover {\n",
       "                color: #0A6EAA;\n",
       "            }\n",
       "        </style>\n",
       "        \n",
       "        <script>\n",
       "            function copyToClipboard(text) {\n",
       "                navigator.clipboard.writeText(text).then(function() {\n",
       "                    console.log('Copied to clipboard: ' + text);\n",
       "                }, function(err) {\n",
       "                    console.error('Could not copy text: ', err);\n",
       "                });\n",
       "            }\n",
       "\n",
       "            document.addEventListener('DOMContentLoaded', function() {\n",
       "                let fieldKeys = document.querySelectorAll('.container-fields .field-key');\n",
       "                fieldKeys.forEach(function(fieldKey) {\n",
       "                    fieldKey.addEventListener('click', function() {\n",
       "                        let accessCode = fieldKey.getAttribute('title').replace('Access code: ', '');\n",
       "                        copyToClipboard(accessCode);\n",
       "                    });\n",
       "                });\n",
       "            });\n",
       "        </script>\n",
       "        <div class='container-wrap'><div class='container-header'><div class='xr-obj-type'><h3>camera_device 0 (CameraDevice)</h3></div></div><div style=\"margin-left: 0px;\" class=\"container-fields\"><span class=\"field-key\" title=\".description\">description: </span><span class=\"field-value\">CCTV camera mounted on ceiling above arenas for behavioral recording</span></div><div style=\"margin-left: 0px;\" class=\"container-fields\"><span class=\"field-key\" title=\".meters_per_pixel\">meters_per_pixel: </span><span class=\"field-value\">0.0004</span></div><div style=\"margin-left: 0px;\" class=\"container-fields\"><span class=\"field-key\" title=\".camera_name\">camera_name: </span><span class=\"field-value\">BehavioralCamera</span></div><div style=\"margin-left: 0px;\" class=\"container-fields\"><span class=\"field-key\" title=\".model\">model: </span><span class=\"field-value\">C920</span></div><div style=\"margin-left: 0px;\" class=\"container-fields\"><span class=\"field-key\" title=\".lens\">lens: </span><span class=\"field-value\">Carl Zeiss lens with 20-step autofocus</span></div></div>"
      ],
      "text/plain": [
       "camera_device 0 abc.CameraDevice at 0x2548054333040\n",
       "Fields:\n",
       "  camera_name: BehavioralCamera\n",
       "  description: CCTV camera mounted on ceiling above arenas for behavioral recording\n",
       "  lens: Carl Zeiss lens with 20-step autofocus\n",
       "  meters_per_pixel: 0.0004\n",
       "  model: C920"
      ]
     },
     "execution_count": 14,
     "metadata": {},
     "output_type": "execute_result"
    }
   ],
   "source": [
    "video.device"
   ]
  },
  {
   "cell_type": "markdown",
   "id": "e5c3b5f2-edce-468b-aea7-dfe369086be0",
   "metadata": {},
   "source": [
    "# Access USV and Detection Data <a name=\"access-usv\"></a>\n",
    "\n",
    "If present, USV (ultrasonic vocalization) audio files are stored in the NWB file as acquisitions:\n"
   ]
  },
  {
   "cell_type": "code",
   "execution_count": 15,
   "id": "a1c5c41c-0c6f-464c-932f-4ec28183ad45",
   "metadata": {},
   "outputs": [
    {
     "name": "stdout",
     "output_type": "stream",
     "text": [
      "AcousticWaveformSeriesTestTrial1\n",
      "AcousticWaveformSeriesTestTrial2\n",
      "AcousticWaveformSeriesTestTrial3\n",
      "AcousticWaveformSeriesTestTrial4\n"
     ]
    }
   ],
   "source": [
    "# List all USV audio files\n",
    "for name in nwbfile.acquisition:\n",
    "    if \"AcousticWaveformSeries\" in name:\n",
    "        print(name)"
   ]
  },
  {
   "cell_type": "code",
   "execution_count": 16,
   "id": "40b019a9-50fc-4fea-a48e-e8c9afc075cf",
   "metadata": {},
   "outputs": [
    {
     "data": {
      "text/html": [
       "\n",
       "        <style>\n",
       "            .container-fields {\n",
       "                font-family: \"Open Sans\", Arial, sans-serif;\n",
       "            }\n",
       "            .container-fields .field-value {\n",
       "                color: #00788E;\n",
       "            }\n",
       "            .container-fields details > summary {\n",
       "                cursor: pointer;\n",
       "                display: list-item;\n",
       "            }\n",
       "            .container-fields details > summary:hover {\n",
       "                color: #0A6EAA;\n",
       "            }\n",
       "        </style>\n",
       "        \n",
       "        <script>\n",
       "            function copyToClipboard(text) {\n",
       "                navigator.clipboard.writeText(text).then(function() {\n",
       "                    console.log('Copied to clipboard: ' + text);\n",
       "                }, function(err) {\n",
       "                    console.error('Could not copy text: ', err);\n",
       "                });\n",
       "            }\n",
       "\n",
       "            document.addEventListener('DOMContentLoaded', function() {\n",
       "                let fieldKeys = document.querySelectorAll('.container-fields .field-key');\n",
       "                fieldKeys.forEach(function(fieldKey) {\n",
       "                    fieldKey.addEventListener('click', function() {\n",
       "                        let accessCode = fieldKey.getAttribute('title').replace('Access code: ', '');\n",
       "                        copyToClipboard(accessCode);\n",
       "                    });\n",
       "                });\n",
       "            });\n",
       "        </script>\n",
       "        <div class='container-wrap'><div class='container-header'><div class='xr-obj-type'><h3>AcousticWaveformSeriesTestTrial1 (AcousticWaveformSeries)</h3></div></div><div style=\"margin-left: 0px;\" class=\"container-fields\"><span class=\"field-key\" title=\".starting_time\">starting_time: </span><span class=\"field-value\">0.0</span></div><div style=\"margin-left: 0px;\" class=\"container-fields\"><span class=\"field-key\" title=\".rate\">rate: </span><span class=\"field-value\">192000.0</span></div><div style=\"margin-left: 0px;\" class=\"container-fields\"><span class=\"field-key\" title=\".resolution\">resolution: </span><span class=\"field-value\">-1.0</span></div><div style=\"margin-left: 0px;\" class=\"container-fields\"><span class=\"field-key\" title=\".comments\">comments: </span><span class=\"field-value\">no comments</span></div><div style=\"margin-left: 0px;\" class=\"container-fields\"><span class=\"field-key\" title=\".description\">description: </span><span class=\"field-value\">Ultrasonic vocalizations recorded during the trials using a Pettersson M500 USB microphone.</span></div><div style=\"margin-left: 0px;\" class=\"container-fields\"><span class=\"field-key\" title=\".conversion\">conversion: </span><span class=\"field-value\">1.0</span></div><div style=\"margin-left: 0px;\" class=\"container-fields\"><span class=\"field-key\" title=\".offset\">offset: </span><span class=\"field-value\">0.0</span></div><div style=\"margin-left: 0px;\" class=\"container-fields\"><span class=\"field-key\" title=\".unit\">unit: </span><span class=\"field-value\">n.a.</span></div><details><summary style=\"display: list-item; margin-left: 0px;\" class=\"container-fields field-key\" title=\".data\"><b>data</b></summary><div style=\"margin-left: 20px;\" class=\"container-fields\">HDF5 dataset<br><table class=\"data-info\"><tbody><tr><th style=\"text-align: left\">Data type</th><td style=\"text-align: left\">int32</td></tr><tr><th style=\"text-align: left\">Shape</th><td style=\"text-align: left\">(22965248,)</td></tr><tr><th style=\"text-align: left\">Array size</th><td style=\"text-align: left\">87.61 MiB</td></tr><tr><th style=\"text-align: left\">Chunk shape</th><td style=\"text-align: left\">(2500000,)</td></tr><tr><th style=\"text-align: left\">Compression</th><td style=\"text-align: left\">gzip</td></tr><tr><th style=\"text-align: left\">Compression opts</th><td style=\"text-align: left\">4</td></tr><tr><th style=\"text-align: left\">Compression ratio</th><td style=\"text-align: left\">2.481624586933915</td></tr></tbody></table></div></details><div style=\"margin-left: 0px;\" class=\"container-fields\"><span class=\"field-key\" title=\".starting_time_unit\">starting_time_unit: </span><span class=\"field-value\">seconds</span></div></div>"
      ],
      "text/plain": [
       "AcousticWaveformSeriesTestTrial1 abc.AcousticWaveformSeries at 0x2548054334144\n",
       "Fields:\n",
       "  comments: no comments\n",
       "  conversion: 1.0\n",
       "  data: <HDF5 dataset \"data\": shape (22965248,), type \"<i4\">\n",
       "  description: Ultrasonic vocalizations recorded during the trials using a Pettersson M500 USB microphone.\n",
       "  offset: 0.0\n",
       "  rate: 192000.0\n",
       "  resolution: -1.0\n",
       "  starting_time: 0.0\n",
       "  starting_time_unit: seconds\n",
       "  unit: n.a."
      ]
     },
     "execution_count": 16,
     "metadata": {},
     "output_type": "execute_result"
    }
   ],
   "source": [
    "nwbfile.acquisition[\"AcousticWaveformSeriesTestTrial1\"]"
   ]
  },
  {
   "cell_type": "code",
   "execution_count": 17,
   "id": "e34cf0e2-2260-4e81-9ac7-07f4795aae9b",
   "metadata": {},
   "outputs": [
    {
     "data": {
      "image/png": "[encoded data removed]",
      "text/plain": [
       "<Figure size 1200x1000 with 4 Axes>"
      ]
     },
     "metadata": {},
     "output_type": "display_data"
    }
   ],
   "source": [
    "import matplotlib.pyplot as plt\n",
    "import numpy as np\n",
    "\n",
    "# List all audio acquisitions\n",
    "audio_keys = [key for key in nwbfile.acquisition if \"AcousticWaveformSeries\" in key]\n",
    "\n",
    "# Create subplots\n",
    "fig, axes = plt.subplots(len(audio_keys), 1, figsize=(12, 10), sharex=True)\n",
    "\n",
    "if len(audio_keys) == 1:\n",
    "    axes = [axes]  # Ensure axes is iterable for a single subplot\n",
    "\n",
    "for ax, key in zip(axes, audio_keys):\n",
    "    # Access the audio data and sampling rate\n",
    "    audio_data = nwbfile.acquisition[key].data[:]\n",
    "    sampling_rate = nwbfile.acquisition[key].rate\n",
    "\n",
    "    # Generate time axis\n",
    "    time_axis = np.arange(len(audio_data)) / sampling_rate\n",
    "\n",
    "    # Plot the audio data\n",
    "    ax.plot(time_axis, audio_data, color='blue', linewidth=0.5)\n",
    "    ax.set_title(f\"USV Audio: {key}\")\n",
    "    ax.set_xlabel(\"Time (s)\")\n",
    "    ax.set_ylabel(\"Amplitude (Hz)\")\n",
    "\n",
    "plt.tight_layout()\n",
    "plt.show()"
   ]
  }
 ],
 "metadata": {
  "kernelspec": {
   "display_name": "kind_lab_to_nwb_env",
   "language": "python",
   "name": "python3"
  },
  "language_info": {
   "codemirror_mode": {
    "name": "ipython",
    "version": 3
   },
   "file_extension": ".py",
   "mimetype": "text/x-python",
   "name": "python",
   "nbconvert_exporter": "python",
   "pygments_lexer": "ipython3",
   "version": "3.12.8"
  }
 },
 "nbformat": 4,
 "nbformat_minor": 5
}
